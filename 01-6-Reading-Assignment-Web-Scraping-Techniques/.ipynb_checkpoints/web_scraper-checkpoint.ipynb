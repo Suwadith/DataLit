{
 "cells": [
  {
   "cell_type": "markdown",
   "metadata": {
    "colab_type": "text",
    "deletable": true,
    "editable": true,
    "id": "S-8qWe_JkJj6"
   },
   "source": [
    "[<img src=\"https://github.com/decoderkurt/research_project_school_of_ai_2019/blob/master/oneshotgo/data/res/logo.png?raw=1\" width=70%/>](https://www.theschool.ai/courses/data-lit/)\n",
    "\n",
    "This colab is from Siraj Raval's video \"Build a Web Scraper (LIVE) 2016.11.23\" \n",
    "\n",
    "https://www.youtube.com/watch?v=A0Ac_dKNmH0\n",
    "\n",
    "\n",
    "This code is rewritten for reading assignment of Data Lit Week1. \n",
    "\n",
    "Original code https://github.com/llSourcell/web_scraper_live_demo\n",
    "\n",
    "School of AI Data Lit  https://www.theschool.ai/courses/data-lit\n",
    "\n",
    "\n"
   ]
  },
  {
   "cell_type": "markdown",
   "metadata": {
    "colab_type": "text",
    "deletable": true,
    "editable": true,
    "id": "jpQsM2VQhbT7"
   },
   "source": [
    "#Install\n",
    "**Install stop-words for cleaning text**"
   ]
  },
  {
   "cell_type": "code",
   "execution_count": 5,
   "metadata": {
    "colab": {
     "base_uri": "https://localhost:8080/",
     "height": 161
    },
    "colab_type": "code",
    "collapsed": false,
    "deletable": true,
    "editable": true,
    "id": "PHL1P61-TEsb",
    "outputId": "98dfd9a9-deae-40ca-c17e-839d203e5b54"
   },
   "outputs": [
    {
     "name": "stdout",
     "output_type": "stream",
     "text": [
      "Requirement already satisfied: stop-words in c:\\users\\suwadith\\appdata\\local\\enthought\\canopy\\edm\\envs\\user\\lib\\site-packages (2018.7.23)\n",
      "Requirement already satisfied: tabulate in c:\\users\\suwadith\\appdata\\local\\enthought\\canopy\\edm\\envs\\user\\lib\\site-packages (0.8.3)\n"
     ]
    }
   ],
   "source": [
    "!pip install stop-words\n",
    "!pip install tabulate"
   ]
  },
  {
   "cell_type": "markdown",
   "metadata": {
    "colab_type": "text",
    "deletable": true,
    "editable": true,
    "id": "JssED2dShir4"
   },
   "source": [
    "#Libraries\n",
    "Lets write a Simple script to get the 20 words and their frequency percentage with highest frequency in an English Wikipedia article. \n",
    "\n",
    "Applications are recommender systems, chatbots and NLP, sentiment analysis, data visualization, market research\n",
    "Beautiful Soup is a Python library for pulling data out of HTML and XML files.\n",
    "\n",
    "Requests is one of the most downloaded Python packages of all time, pulling in over 7,000,000 downloads every month. HTTP library for pulling pushing and authenticating lets you do Regular expression operations\n",
    "special text string for describing a search pattern. find and replace\n",
    "\n",
    "The operator module exports a set of efficient functions corresponding to the intrinsic operators of Python.\n",
    "comparison, addition, greater than less then parses json, formats it\n",
    "\n",
    "The module provides just one function, tabulate, which takes a list of lists or another tabular data type as the first argument, and outputs a nicely formatted plain-text table:\n",
    "system calls, dealw with user arguments list of common stop words various languages like the\n"
   ]
  },
  {
   "cell_type": "markdown",
   "metadata": {
    "colab_type": "text",
    "deletable": true,
    "editable": true,
    "id": "YUw3P2iBeD_q"
   },
   "source": [
    "**Import libraries**"
   ]
  },
  {
   "cell_type": "code",
   "execution_count": 24,
   "metadata": {
    "colab": {},
    "colab_type": "code",
    "collapsed": false,
    "deletable": true,
    "editable": true,
    "id": "x4Smaip-SP5o"
   },
   "outputs": [],
   "source": [
    "from bs4 import BeautifulSoup\n",
    "import requests\n",
    "import re\n",
    "import operator\n",
    "import json\n",
    "from tabulate import tabulate\n",
    "import sys\n",
    "from stop_words import get_stop_words"
   ]
  },
  {
   "cell_type": "markdown",
   "metadata": {
    "colab_type": "text",
    "deletable": true,
    "editable": true,
    "id": "sGyUkrV4hzSc"
   },
   "source": [
    "#Functions for Scraping\n",
    "**Functions for word list and frequency table**"
   ]
  },
  {
   "cell_type": "code",
   "execution_count": 25,
   "metadata": {
    "colab": {},
    "colab_type": "code",
    "collapsed": false,
    "deletable": true,
    "editable": true,
    "id": "AIrqv2tbVD5k"
   },
   "outputs": [],
   "source": [
    "#get the words\n",
    "def getWordList(url):\n",
    "    word_list = []\n",
    "    \n",
    "    #raw data\n",
    "    source_code = requests.get(url)\n",
    "    \n",
    "    #convert to text\n",
    "    plain_text = source_code.text\n",
    "    \n",
    "    #lxml format\n",
    "    soup = BeautifulSoup(plain_text,'lxml')\n",
    "\n",
    "    #find the words in paragraph tag\n",
    "    for text in soup.findAll('p'):\n",
    "        if text.text is None:\n",
    "            continue\n",
    "        content = text.text\n",
    "        #lowercase and split into an array\n",
    "        words = content.lower().split()\n",
    "\n",
    "        for word in words:\n",
    "            #remove non-chars\n",
    "            cleaned_word = clean_word(word)\n",
    "            #if there is still something there\n",
    "            if len(cleaned_word) > 0:\n",
    "                #add it to our word list\n",
    "                word_list.append(cleaned_word)\n",
    "\n",
    "    return word_list\n",
    "\n",
    "def createFrquencyTable(word_list):\n",
    "    word_count = {}\n",
    "    for word in word_list:\n",
    "        if word in word_count:\n",
    "            word_count[word] += 1\n",
    "        else:\n",
    "            word_count[word] = 1\n",
    "\n",
    "    return word_count"
   ]
  },
  {
   "cell_type": "markdown",
   "metadata": {
    "colab_type": "text",
    "deletable": true,
    "editable": true,
    "id": "6f8Y-YhRdgaU"
   },
   "source": [
    "#Functions for cleaning text\n",
    "**Cleaning text data using regex**"
   ]
  },
  {
   "cell_type": "code",
   "execution_count": 26,
   "metadata": {
    "colab": {},
    "colab_type": "code",
    "collapsed": true,
    "deletable": true,
    "editable": true,
    "id": "HdclAE-7VXok"
   },
   "outputs": [],
   "source": [
    "#clean word with regex\n",
    "def clean_word(word):\n",
    "    cleaned_word = re.sub('[^A-Za-z]+', '', word)\n",
    "    return cleaned_word\n",
    "\n",
    "#remove stopwords\n",
    "def remove_stop_words(frequency_list):\n",
    "    stop_words = get_stop_words('en')\n",
    "\n",
    "    temp_list = []\n",
    "    for key,value in frequency_list:\n",
    "        if key not in stop_words:\n",
    "            temp_list.append([key, value])\n",
    "\n",
    "    return temp_list"
   ]
  },
  {
   "cell_type": "markdown",
   "metadata": {
    "colab_type": "text",
    "deletable": true,
    "editable": true,
    "id": "HK5Q_NCSg1LI"
   },
   "source": [
    "#Modify these variables\n",
    "1.   **string_query : You can modify this valiable whatever you want to search for**\n",
    "2.   **search_mode : True or False to remove stop words or not**\n",
    "\n"
   ]
  },
  {
   "cell_type": "code",
   "execution_count": 32,
   "metadata": {
    "colab": {},
    "colab_type": "code",
    "collapsed": true,
    "deletable": true,
    "editable": true,
    "id": "NRq6XMlHfKG-"
   },
   "outputs": [],
   "source": [
    "#keyword you want to search\n",
    "string_query = \"marvel_cinematic_universe\"\n",
    "\n",
    "#to remove stop words or not\n",
    "search_mode = True\n",
    "#search_mode = False"
   ]
  },
  {
   "cell_type": "markdown",
   "metadata": {
    "colab_type": "text",
    "deletable": true,
    "editable": true,
    "id": "N_GrLh4lhTPS"
   },
   "source": [
    "#Run scraping\n"
   ]
  },
  {
   "cell_type": "code",
   "execution_count": 33,
   "metadata": {
    "colab": {
     "base_uri": "https://localhost:8080/",
     "height": 413
    },
    "colab_type": "code",
    "collapsed": false,
    "deletable": true,
    "editable": true,
    "id": "18EPKNMtVp6-",
    "outputId": "bb93b90a-fedf-402b-9e59-0f2436f18624"
   },
   "outputs": [
    {
     "name": "stdout",
     "output_type": "stream",
     "text": [
      "| Word       |   Frequency |   Frequency Percentage |\n",
      "|------------+-------------+------------------------|\n",
      "| marvel     |         199 |                 2.5477 |\n",
      "| films      |         120 |                 1.5363 |\n",
      "| series     |         100 |                 1.2802 |\n",
      "| universe   |          89 |                 1.1394 |\n",
      "| film       |          84 |                 1.0754 |\n",
      "| mcu        |          74 |                 0.9474 |\n",
      "| studios    |          65 |                 0.8322 |\n",
      "| characters |          63 |                 0.8066 |\n",
      "| television |          54 |                 0.6913 |\n",
      "| first      |          50 |                 0.6401 |\n",
      "| marvels    |          49 |                 0.6273 |\n",
      "| avengers   |          46 |                 0.5889 |\n",
      "| disney     |          42 |                 0.5377 |\n",
      "| feige      |          42 |                 0.5377 |\n",
      "| iron       |          38 |                 0.4865 |\n",
      "| new        |          36 |                 0.4609 |\n",
      "| man        |          36 |                 0.4609 |\n",
      "| also       |          34 |                 0.4353 |\n",
      "| going      |          31 |                 0.3969 |\n",
      "| spiderman  |          30 |                 0.3841 |\n"
     ]
    }
   ],
   "source": [
    "#access wiki API. json format. query it for data. search tyep. shows list of possibilities\n",
    "wikipedia_api_link = \"https://en.wikipedia.org/w/api.php?format=json&action=query&list=search&srsearch=\"\n",
    "wikipedia_link = \"https://en.wikipedia.org/wiki/\"\n",
    "url = wikipedia_api_link + string_query\n",
    "\n",
    "\n",
    "#try-except block. simple way to deal with exceptions \n",
    "#great for HTTP requests\n",
    "try:\n",
    "    #use requests to retrieve raw data from wiki API URL we\n",
    "    #just constructed\n",
    "    response = requests.get(url)\n",
    "\n",
    "    #format that data as a JSON dictionary\n",
    "    data = json.loads(response.content.decode(\"utf-8\"))\n",
    "\n",
    "    #page title, first option/title\n",
    "    #show this in web browser\n",
    "    wikipedia_page_tag = data['query']['search'][0]['title']\n",
    "\n",
    "    #get actual wiki page based on retrieved title\n",
    "    url = wikipedia_link + wikipedia_page_tag\n",
    "    #get list of words from that page\n",
    "    page_word_list = getWordList(url)\n",
    "    #create table of word counts, dictionary\n",
    "    page_word_count = createFrquencyTable(page_word_list)\n",
    "    #sort the table by the frequency count\n",
    "    sorted_word_frequency_list = sorted(page_word_count.items(), key=operator.itemgetter(1), reverse=True)\n",
    "    #remove stop words if the user specified\n",
    "    if(search_mode):\n",
    "        sorted_word_frequency_list = remove_stop_words(sorted_word_frequency_list)\n",
    "\n",
    "    #sum the total words to calculate frequencies   \n",
    "    total_words_sum = 0\n",
    "    for key,value in sorted_word_frequency_list:\n",
    "        total_words_sum = total_words_sum + value\n",
    "\n",
    "    #just get the top 20 words\n",
    "    if len(sorted_word_frequency_list) > 20:\n",
    "        sorted_word_frequency_list = sorted_word_frequency_list[:20]\n",
    "\n",
    "    #create our final list which contains words, frequency (word count), percentage\n",
    "    final_list = []\n",
    "    for key,value in sorted_word_frequency_list:\n",
    "        percentage_value = float(value * 100) / total_words_sum\n",
    "        final_list.append([key, value, round(percentage_value, 4)])\n",
    "\n",
    "    #headers before the table\n",
    "    print_headers = ['Word', 'Frequency', 'Frequency Percentage']\n",
    "\n",
    "    #print the table with tabulate\n",
    "    print(tabulate(final_list, headers=print_headers, tablefmt='orgtbl'))\n",
    "\n",
    "#throw an exception in case it breaks\n",
    "except requests.exceptions.Timeout:\n",
    "    print(\"The server didn't respond. Please, try again later.\")"
   ]
  },
  {
   "cell_type": "code",
   "execution_count": null,
   "metadata": {
    "collapsed": true
   },
   "outputs": [],
   "source": []
  }
 ],
 "metadata": {
  "colab": {
   "name": "web_scraper.ipynb",
   "provenance": [],
   "version": "0.3.2"
  },
  "kernelspec": {
   "display_name": "Python 3",
   "language": "python",
   "name": "python3"
  },
  "language_info": {
   "codemirror_mode": {
    "name": "ipython",
    "version": 3
   },
   "file_extension": ".py",
   "mimetype": "text/x-python",
   "name": "python",
   "nbconvert_exporter": "python",
   "pygments_lexer": "ipython3",
   "version": "3.5.2"
  }
 },
 "nbformat": 4,
 "nbformat_minor": 0
}
