{
 "cells": [
  {
   "cell_type": "markdown",
   "metadata": {
    "deletable": true,
    "editable": true
   },
   "source": [
    "# Web Scraping"
   ]
  },
  {
   "cell_type": "markdown",
   "metadata": {
    "deletable": true,
    "editable": true
   },
   "source": [
    "## Using the webbrowser Module"
   ]
  },
  {
   "cell_type": "code",
   "execution_count": 12,
   "metadata": {
    "collapsed": false,
    "deletable": true,
    "editable": true
   },
   "outputs": [
    {
     "name": "stdout",
     "output_type": "stream",
     "text": [
      "Collecting pyperclip\n",
      "  Downloading https://files.pythonhosted.org/packages/2d/0f/4eda562dffd085945d57c2d9a5da745cfb5228c02bc90f2c74bbac746243/pyperclip-1.7.0.tar.gz\n",
      "Installing collected packages: pyperclip\n",
      "  Running setup.py install for pyperclip: started\n",
      "    Running setup.py install for pyperclip: finished with status 'done'\n",
      "Successfully installed pyperclip-1.7.0\n"
     ]
    }
   ],
   "source": [
    "!pip install pyperclip"
   ]
  },
  {
   "cell_type": "code",
   "execution_count": 13,
   "metadata": {
    "collapsed": false,
    "deletable": true,
    "editable": true
   },
   "outputs": [],
   "source": [
    "import webbrowser\n",
    "import sys\n",
    "import pyperclip"
   ]
  },
  {
   "cell_type": "code",
   "execution_count": null,
   "metadata": {
    "collapsed": false,
    "deletable": true,
    "editable": true
   },
   "outputs": [],
   "source": [
    "#Opens the URL in the browser\n",
    "webbrowser.open('http://inventwithpython.com/')"
   ]
  },
  {
   "cell_type": "code",
   "execution_count": 17,
   "metadata": {
    "collapsed": false,
    "deletable": true,
    "editable": true
   },
   "outputs": [
    {
     "name": "stdout",
     "output_type": "stream",
     "text": [
      "Input address: \n"
     ]
    }
   ],
   "source": [
    "user_input = input('Input address: ')"
   ]
  },
  {
   "cell_type": "markdown",
   "metadata": {
    "deletable": true,
    "editable": true
   },
   "source": [
    "## Handle the Clipboard Content and Launch the Browser"
   ]
  },
  {
   "cell_type": "code",
   "execution_count": 18,
   "metadata": {
    "collapsed": false,
    "deletable": true,
    "editable": true
   },
   "outputs": [
    {
     "data": {
      "text/plain": [
       "True"
      ]
     },
     "execution_count": 18,
     "metadata": {},
     "output_type": "execute_result"
    }
   ],
   "source": [
    "if len(user_input) > 1:\n",
    "    #address = ''.join(user_input[0:])\n",
    "    print(address)\n",
    "    print(type(address))\n",
    "    address = user_input\n",
    "else:\n",
    "    # Get address from clipboard. (Will be triggered when the input is empty and it assumes that the address is in the clipboard)\n",
    "    address = pyperclip.paste()\n",
    "\n",
    "webbrowser.open('https://www.google.com/maps/place/' + address)"
   ]
  },
  {
   "cell_type": "markdown",
   "metadata": {
    "collapsed": true,
    "deletable": true,
    "editable": true
   },
   "source": [
    "## Similar use cases \n",
    "\n",
    "* Open all links on a page in separate browser tabs.\n",
    "* Open the browser to the URL for your local weather.\n",
    "* Open several social network sites that you regularly check."
   ]
  },
  {
   "cell_type": "markdown",
   "metadata": {
    "deletable": true,
    "editable": true
   },
   "source": [
    "## Downloading Files from the Web with the requests Module"
   ]
  },
  {
   "cell_type": "code",
   "execution_count": 13,
   "metadata": {
    "collapsed": false,
    "deletable": true,
    "editable": true
   },
   "outputs": [],
   "source": [
    "import requests"
   ]
  },
  {
   "cell_type": "markdown",
   "metadata": {
    "deletable": true,
    "editable": true
   },
   "source": [
    "## Downloading a Web Page with the requests.get() Function"
   ]
  },
  {
   "cell_type": "code",
   "execution_count": 14,
   "metadata": {
    "collapsed": false,
    "deletable": true,
    "editable": true
   },
   "outputs": [
    {
     "name": "stdout",
     "output_type": "stream",
     "text": [
      "<class 'requests.models.Response'>\n",
      "True\n",
      "178978\n",
      "The Project Gutenberg EBook of Romeo and Juliet, by William Shakespeare\r\n",
      "\r\n",
      "This eBook is for the use of anyone anywhere at no cost and with\r\n",
      "almost no restrictions whatsoever.  You may copy it, give it away or\r\n",
      "re-use it under the terms of the Projec\n"
     ]
    }
   ],
   "source": [
    "res = requests.get('https://automatetheboringstuff.com/files/rj.txt')\n",
    "print(type(res))\n",
    "print(res.status_code == requests.codes.ok)\n",
    "print(len(res.text))\n",
    "print(res.text[:250]) # prints the first 250 characters"
   ]
  },
  {
   "cell_type": "markdown",
   "metadata": {
    "deletable": true,
    "editable": true
   },
   "source": [
    "## Checking for Errors"
   ]
  },
  {
   "cell_type": "code",
   "execution_count": 15,
   "metadata": {
    "collapsed": false,
    "deletable": true,
    "editable": true
   },
   "outputs": [
    {
     "name": "stdout",
     "output_type": "stream",
     "text": [
      "There was a problem: 404 Client Error: Not Found for url: http://inventwithpython.com/page_that_does_not_exist\n"
     ]
    }
   ],
   "source": [
    "res = requests.get('http://inventwithpython.com/page_that_does_not_exist')\n",
    "try:\n",
    "    res.raise_for_status()\n",
    "except Exception as exc:\n",
    "    print('There was a problem: %s' % (exc))"
   ]
  },
  {
   "cell_type": "markdown",
   "metadata": {
    "deletable": true,
    "editable": true
   },
   "source": [
    "## Handling Errors"
   ]
  },
  {
   "cell_type": "code",
   "execution_count": 16,
   "metadata": {
    "collapsed": false,
    "deletable": true,
    "editable": true
   },
   "outputs": [
    {
     "name": "stdout",
     "output_type": "stream",
     "text": [
      "The Project Gutenberg EBook of Romeo and Juliet, by William Shakespeare\r\n",
      "\r\n",
      "This eBook is for the use of anyone anywhere at no cost and with\r\n",
      "almost no restrictions whatsoever.  You may copy it, give it away or\r\n",
      "re-use it under the terms of the Projec\n"
     ]
    }
   ],
   "source": [
    "res = requests.get('https://automatetheboringstuff.com/files/rj.txt')\n",
    "try:\n",
    "    res.raise_for_status()\n",
    "    print(res.text[:250])\n",
    "except Exception as exc:\n",
    "    print('There was a problem: %s' % (exc))"
   ]
  },
  {
   "cell_type": "markdown",
   "metadata": {
    "deletable": true,
    "editable": true
   },
   "source": [
    "## Saving Downloaded Files to the Hard Drive"
   ]
  },
  {
   "cell_type": "code",
   "execution_count": 17,
   "metadata": {
    "collapsed": false,
    "deletable": true,
    "editable": true
   },
   "outputs": [
    {
     "name": "stdout",
     "output_type": "stream",
     "text": [
      "Done!\n"
     ]
    }
   ],
   "source": [
    "res = requests.get('https://automatetheboringstuff.com/files/rj.txt')\n",
    "try:\n",
    "    res.raise_for_status()\n",
    "    playFile = open('RomeoAndJuliet.txt', 'wb')\n",
    "    for chunk in res.iter_content(100000):\n",
    "        playFile.write(chunk)\n",
    "    playFile.close()\n",
    "    print('Done!')\n",
    "except Exception as exc:\n",
    "    print('There was a problem: %s' % (exc))"
   ]
  },
  {
   "cell_type": "markdown",
   "metadata": {
    "deletable": true,
    "editable": true
   },
   "source": [
    "* The `iter_content()` method returns “chunks” of the content on each iteration through the loop. Each chunk is of the bytes data type, and you get to specify how many bytes each chunk will contain. One hundred thousand bytes is generally a good size, so pass `100000` as the argument to `iter_content()`.\n",
    "\n",
    "* The file `RomeoAndJuliet.txt` will now exist in the current working directory. Note that while the filename on the website was `rj.txt`, the file on your hard drive has a different filename. The `requests` module simply handles downloading the contents of web pages. Once the page is downloaded, it is simply data in your program. Even if you were to lose your Internet connection after downloading the web page, all the page data would still be on your computer.\n",
    "\n",
    "* The `write()` method returns the number of bytes written to the file. In the previous example, there were `100,000 bytes` in the first chunk, and the remaining part of the file needed only `78,981 bytes`.\n",
    "\n",
    "* To review, here’s the complete process for downloading and saving a file:\n",
    "    1. Call `requests.get()` to download the file.\n",
    "    2. Call `open()` with `wb` to create a new file in write binary mode.\n",
    "    3. Loop over the Response object’s `iter_content()` method.\n",
    "    4. Call `write()` on each iteration to write the content to the file.\n",
    "    5. Call `close()` to close the file."
   ]
  },
  {
   "cell_type": "markdown",
   "metadata": {
    "collapsed": true,
    "deletable": true,
    "editable": true
   },
   "source": [
    "## Parsing HTML with the BeautifulSoup Module"
   ]
  },
  {
   "cell_type": "code",
   "execution_count": 18,
   "metadata": {
    "collapsed": false,
    "deletable": true,
    "editable": true
   },
   "outputs": [
    {
     "name": "stdout",
     "output_type": "stream",
     "text": [
      "Requirement already satisfied: beautifulsoup4 in c:\\users\\suwadith\\appdata\\local\\enthought\\canopy\\edm\\envs\\user\\lib\\site-packages (4.6.0)\n"
     ]
    }
   ],
   "source": [
    "!pip install beautifulsoup4"
   ]
  },
  {
   "cell_type": "code",
   "execution_count": 1,
   "metadata": {
    "collapsed": true,
    "deletable": true,
    "editable": true
   },
   "outputs": [],
   "source": [
    "import bs4\n",
    "import requests"
   ]
  },
  {
   "cell_type": "code",
   "execution_count": 2,
   "metadata": {
    "collapsed": false,
    "deletable": true,
    "editable": true
   },
   "outputs": [
    {
     "name": "stdout",
     "output_type": "stream",
     "text": [
      "<class 'bs4.BeautifulSoup'>\n",
      "<!DOCTYPE html>\n",
      "<html dir=\"ltr\" lang=\"en\">\n",
      "<head>\n",
      "<link href=\"https://www.w3.org/1999/xhtml/vocab\" rel=\"profile\"/>\n",
      "<meta content=\"width=device-width, initial-scale=1.0\" name=\"viewport\"/>\n",
      "<meta content=\"text/html; charset=utf-8\" http-equiv=\"Content-Type\"/>\n",
      "<link href=\"https://nostarch.com/sites/default/files/favicon.ico\" rel=\"shortcut icon\" type=\"image/vnd.microsoft.icon\"/>\n",
      "<meta content=\"Drupal 7 (http://drupal.org)\" name=\"generator\"/>\n",
      "<link href=\"https://nostarch.com/\" rel=\"canonical\"/>\n",
      "<link href=\"https://nostarch.com/\" rel=\"shortlink\"/>\n",
      "<title>No Starch Press | \"The finest in geek entertainment\"</title>\n",
      "<link href=\"https://nostarch.com/sites/default/files/css/css_lQaZfjVpwP_oGNqdtWCSpJT1EMqXdMiU84ekLLxQnc4.css\" media=\"all\" rel=\"stylesheet\" type=\"text/css\"/>\n",
      "<link href=\"https://nostarch.com/sites/default/files/css/css_iJE8OMtNhvOQPbQGg8OqRmpr7AhRCfmCisQy8q7fFhk.css\" media=\"all\" rel=\"stylesheet\" type=\"text/css\"/>\n",
      "<link href=\"https://nostarch.com/sites/default/files/css/css_-ED5mSDi2J0mJNLdnWftdu4UjRHpo8Es5qngnLZm3Ec.css\" media=\"all\" rel=\"stylesheet\" type=\"text/css\"/>\n",
      "<link href=\"https://nostarch.com/sites/default/files/css/css_AwOJVn3jdGwAWV_K-lDvOjtfrwgvh3Kzpwk64De7ebk.css\" media=\"all\" rel=\"stylesheet\" type=\"text/css\"/>\n",
      "<!--[if lt IE 9]>\n",
      "    <script src=\"https://cdn.jsdelivr.net/html5shiv/3.7.3/html5shiv-printshiv.min.js\"></script>\n",
      "  <![endif]-->\n",
      "<script>window.google_analytics_uacct = \"UA-5027625-1\";</script>\n",
      "<script src=\"//ajax.googleapis.com/ajax/libs/jquery/1.10.2/jquery.min.js\"></script>\n",
      "<script>window.jQuery || document.write(\"<script src='/sites/all/modules/contrib/jquery_update/replace/jquery/1.10/jquery.min.js'>\\x3C/script>\")</script>\n",
      "<script src=\"https://nostarch.com/sites/default/files/js/js_vSmhpx_T-AShyt_WMW5_TcwwxJP1imoVOa8jvwL_mxE.js\"></script>\n",
      "<script src=\"https://nostarch.com/sites/default/files/js/js_BLxotNs2yt7YGlf9QRI9L9AMfdnkQfnN-_ADBTW3SiE.js\"></script>\n",
      "<script src=\"https://nostarch.com/sites/default/files/js/js_FvBWezKhsGxJU-Yi41qvYAlpXctdNNR7mIzff4prZrg.js\"></script>\n",
      "<script src=\"https://nostarch.com/sites/default/files/js/js_rCIt64_gD-LYmA2i269mzq_eI-FL_7hGZp598_d_j7Q.js\"></script>\n",
      "<script>(function(i,s,o,g,r,a,m){i[\"GoogleAnalyticsObject\"]=r;i[r]=i[r]||function(){(i[r].q=i[r].q||[]).push(arguments)},i[r].l=1*new Date();a=s.createElement(o),m=s.getElementsByTagName(o)[0];a.async=1;a.src=g;m.parentNode.insertBefore(a,m)})(window,document,\"script\",\"https://www.google-analytics.com/analytics.js\",\"ga\");ga(\"create\", \"UA-5027625-1\", {\"cookieDomain\":\"auto\"});ga(\"set\", \"anonymizeIp\", true);ga(\"send\", \"pageview\");</script>\n",
      "<script src=\"https://nostarch.com/sites/default/files/js/js_YVgz8u7U_iU4-YMa-K5LKZE5ZLG-tMsX72JC46wjRZM.js\"></script>\n",
      "<script src=\"https://nostarch.com/sites/default/files/js/js_mBQQnv2jfT7hV2YFgICrM1KFECoRoI4UlzREm5pJWyg.js\"></script>\n",
      "<script>jQuery.extend(Drupal.settings, {\"basePath\":\"\\/\",\"pathPrefix\":\"\",\"ajaxPageState\":{\"theme\":\"nostarch\",\"theme_token\":\"ZU6LxVAhYKobg4BfGgE_kZVaZVONPo6hBvLroa3Q1PQ\",\"jquery_version\":\"1.10\",\"js\":{\"sites\\/all\\/modules\\/contrib\\/addthis\\/addthis.js\":1,\"sites\\/all\\/themes\\/bootstrap\\/js\\/bootstrap.js\":1,\"0\":1,\"\\/\\/ajax.googleapis.com\\/ajax\\/libs\\/jquery\\/1.10.2\\/jquery.min.js\":1,\"1\":1,\"misc\\/jquery.once.js\":1,\"misc\\/drupal.js\":1,\"sites\\/all\\/modules\\/contrib\\/jquery_update\\/replace\\/ui\\/external\\/jquery.cookie.js\":1,\"sites\\/all\\/modules\\/contrib\\/jquery_update\\/replace\\/misc\\/jquery.form.min.js\":1,\"misc\\/ajax.js\":1,\"sites\\/all\\/modules\\/contrib\\/jquery_update\\/js\\/jquery_update.js\":1,\"sites\\/all\\/modules\\/contrib\\/ubercart\\/uc_file\\/uc_file.js\":1,\"sites\\/all\\/libraries\\/colorbox\\/jquery.colorbox-min.js\":1,\"sites\\/all\\/modules\\/contrib\\/colorbox\\/js\\/colorbox.js\":1,\"sites\\/all\\/modules\\/contrib\\/colorbox\\/styles\\/plain\\/colorbox_style.js\":1,\"sites\\/all\\/modules\\/contrib\\/colorbox\\/js\\/colorbox_load.js\":1,\"sites\\/all\\/modules\\/contrib\\/colorbox\\/js\\/colorbox_inline.js\":1,\"sites\\/all\\/modules\\/contrib\\/views\\/js\\/base.js\":1,\"sites\\/all\\/themes\\/bootstrap\\/js\\/misc\\/_progress.js\":1,\"sites\\/all\\/modules\\/contrib\\/views\\/js\\/ajax_view.js\":1,\"sites\\/all\\/modules\\/contrib\\/ubercart\\/uc_cart\\/uc_cart_block.js\":1,\"sites\\/all\\/modules\\/contrib\\/google_analytics\\/googleanalytics.js\":1,\"2\":1,\"sites\\/all\\/themes\\/nostarch\\/js\\/bootstrap.min.js\":1,\"sites\\/all\\/themes\\/nostarch\\/js\\/main.js\":1,\"sites\\/all\\/themes\\/nostarch\\/js\\/front_grid_height.js\":1,\"sites\\/all\\/themes\\/bootstrap\\/js\\/misc\\/ajax.js\":1,\"sites\\/all\\/themes\\/bootstrap\\/js\\/modules\\/views\\/js\\/ajax_view.js\":1},\"css\":{\"modules\\/system\\/system.base.css\":1,\"sites\\/all\\/modules\\/contrib\\/date\\/date_api\\/date.css\":1,\"sites\\/all\\/modules\\/contrib\\/date\\/date_popup\\/themes\\/datepicker.1.7.css\":1,\"modules\\/field\\/theme\\/field.css\":1,\"sites\\/all\\/modules\\/contrib\\/logintoboggan\\/logintoboggan.css\":1,\"sites\\/all\\/modules\\/contrib\\/mollom\\/mollom.css\":1,\"modules\\/node\\/node.css\":1,\"sites\\/all\\/modules\\/contrib\\/uc_fedex\\/uc_fedex.css\":1,\"sites\\/all\\/modules\\/contrib\\/ubercart\\/uc_file\\/uc_file.css\":1,\"sites\\/all\\/modules\\/contrib\\/ubercart\\/uc_order\\/uc_order.css\":1,\"sites\\/all\\/modules\\/contrib\\/ubercart\\/uc_product\\/uc_product.css\":1,\"sites\\/all\\/modules\\/contrib\\/ubercart\\/uc_store\\/uc_store.css\":1,\"sites\\/all\\/modules\\/contrib\\/views\\/css\\/views.css\":1,\"sites\\/all\\/modules\\/contrib\\/uc_discounts_alt\\/uc_discounts\\/uc_discounts.css\":1,\"sites\\/all\\/modules\\/contrib\\/colorbox\\/styles\\/plain\\/colorbox_style.css\":1,\"sites\\/all\\/modules\\/contrib\\/ctools\\/css\\/ctools.css\":1,\"sites\\/all\\/modules\\/contrib\\/ubercart\\/uc_cart\\/uc_cart_block.css\":1,\"sites\\/all\\/themes\\/nostarch\\/css\\/en_styles.css\":1,\"sites\\/all\\/themes\\/nostarch\\/css\\/custom.css\":1,\"sites\\/all\\/themes\\/nostarch\\/css\\/bootstrap-3-vert-offset.css\":1,\"sites\\/all\\/themes\\/nostarch\\/css\\/bootstrap-3-autoclear.css\":1,\"sites\\/all\\/themes\\/nostarch\\/css\\/glyphicons.css\":1}},\"colorbox\":{\"opacity\":\"0.85\",\"current\":\"{current} of {total}\",\"previous\":\"\\u00ab Prev\",\"next\":\"Next \\u00bb\",\"close\":\"Close\",\"maxWidth\":\"98%\",\"maxHeight\":\"98%\",\"fixed\":true,\"mobiledetect\":true,\"mobiledevicewidth\":\"480px\"},\"better_exposed_filters\":{\"views\":{\"frontpage_new\":{\"displays\":{\"block_frontpage\":{\"filters\":[]}}},\"frontpage_comingsoon\":{\"displays\":{\"block_frontpage\":{\"filters\":[]}}},\"topics\":{\"displays\":{\"block\":{\"filters\":[]}}}}},\"views\":{\"ajax_path\":\"\\/views\\/ajax\",\"ajaxViews\":{\"views_dom_id:d49a6695b1ae2fbb7bf81eb324a106b9\":{\"view_name\":\"frontpage_comingsoon\",\"view_display_id\":\"block_frontpage\",\"view_args\":\"\",\"view_path\":\"node\\/14\",\"view_base_path\":\"frontpage_comingsoon\",\"view_dom_id\":\"d49a6695b1ae2fbb7bf81eb324a106b9\",\"pager_element\":0}}},\"urlIsAjaxTrusted\":{\"\\/views\\/ajax\":true,\"\\/\":true},\"googleanalytics\":{\"trackOutbound\":1,\"trackMailto\":1,\"trackDownload\":1,\"trackDownloadExtensions\":\"7z|aac|arc|arj|asf|asx|avi|bin|csv|doc(x|m)?|dot(x|m)?|exe|flv|gif|gz|gzip|hqx|jar|jpe?g|js|mp(2|3|4|e?g)|mov(ie)?|msi|msp|pdf|phps|png|ppt(x|m)?|pot(x|m)?|pps(x|m)?|ppam|sld(x|m)?|thmx|qtm?|ra(m|r)?|sea|sit|tar|tgz|torrent|txt|wav|wma|wmv|wpd|xls(x|m|b)?|xlt(x|m)|xlam|xml|z|zip\",\"trackColorbox\":1},\"bootstrap\":{\"anchorsFix\":\"0\",\"anchorsSmoothScrolling\":\"0\",\"formHasError\":1,\"popoverEnabled\":1,\"popoverOptions\":{\"animation\":1,\"html\":0,\"placement\":\"right\",\"selector\":\"\",\"trigger\":\"click\",\"triggerAutoclose\":1,\"title\":\"\",\"content\":\"\",\"delay\":0,\"container\":\"body\"},\"tooltipEnabled\":1,\"tooltipOptions\":{\"animation\":1,\"html\":0,\"placement\":\"auto left\",\"selector\":\"\",\"trigger\":\"hover focus\",\"delay\":0,\"container\":\"body\"}}});</script>\n",
      "</head>\n",
      "<body class=\"html front not-logged-in two-sidebars page-node page-node- page-node-14 node-type-page\">\n",
      "<div id=\"skip-link\">\n",
      "<a class=\"element-invisible element-focusable\" href=\"#main-content\">Skip to main content</a>\n",
      "</div>\n",
      "<header class=\"header\" id=\"\" role=\"banner\">\n",
      "<div class=\"container\">\n",
      "<div class=\"row\">\n",
      "<nav class=\"navbar navbar-default visible-xs\" role=\"navigation\">\n",
      "<div class=\"navbar-header\">\n",
      "<button aria-controls=\"navbar\" aria-expanded=\"false\" class=\"navbar-toggle collapsed\" data-target=\"#navbar\" data-toggle=\"collapse\" type=\"button\">\n",
      "<span class=\"sr-only\">Toggle navigation</span>\n",
      "<span class=\"icon-bar\"></span>\n",
      "<span class=\"icon-bar\"></span>\n",
      "<span class=\"icon-bar\"></span>\n",
      "</button>\n",
      "<a class=\"navbar-brand text-uppercase\" href=\"/\"><img alt=\"Home\" class=\"img-responsive\" src=\"https://nostarch.com/sites/all/themes/nostarch/logo.png\"/></a>\n",
      "</div>\n",
      "<div class=\"navbar-collapse collapse text-center\" id=\"navbar\">\n",
      "<ul class=\"menu nav navbar-nav\"><li class=\"first leaf\"><a href=\"/catalog.htm\" title=\"Explore our catalog\">Catalog</a></li>\n",
      "<li class=\"leaf\"><a href=\"/blog\" title=\"The No Starch Press blog\">Blog</a></li>\n",
      "<li class=\"leaf\"><a href=\"/media.htm\" title=\"Media contact\">Media</a></li>\n",
      "<li class=\"leaf\"><a href=\"/writeforus\" title=\"Submit a book proposal\">Write for Us</a></li>\n",
      "<li class=\"leaf\"><a href=\"/about\" title=\"About No Starch Press\">About Us</a></li>\n",
      "<li class=\"last leaf\"><a href=\"/contactus\" title=\"Contact Us\">Contact Us</a></li>\n",
      "</ul> <div class=\"region region-navigation\">\n",
      "<section class=\"block block-search clearfix\" id=\"block-search-form\">\n",
      "<form accept-charset=\"UTF-8\" action=\"/\" class=\"form-search content-search\" id=\"search-block-form\" method=\"post\"><div><div>\n",
      "<h2 class=\"element-invisible\">Search form</h2>\n",
      "<div class=\"input-group\"><input class=\"form-control form-text\" id=\"edit-search-block-form--2\" maxlength=\"128\" name=\"search_block_form\" placeholder=\"Search\" size=\"15\" title=\"Enter the terms you wish to search for.\" type=\"text\" value=\"\"/><span class=\"input-group-btn\"><button class=\"btn btn-primary\" type=\"submit\"><span aria-hidden=\"true\" class=\"icon glyphicon glyphicon-search\"></span>\n",
      "</button></span></div><div class=\"form-actions form-wrapper form-group\" id=\"edit-actions--20\"><button class=\"element-invisible btn btn-default form-submit\" id=\"edit-submit--5\" name=\"op\" type=\"submit\" value=\"GO!\">GO!</button>\n",
      "</div><input name=\"form_build_id\" type=\"hidden\" value=\"form-acamHWaVrmzIRG5lATBfFHzNfSyeiRiO98NUga747zQ\"/>\n",
      "<input name=\"form_id\" type=\"hidden\" value=\"search_block_form\"/>\n",
      "</div>\n",
      "</div></form>\n",
      "</section>\n",
      "</div>\n",
      "</div>\n",
      "</nav>\n",
      "<div class=\"navbar-header\">\n",
      "<div class=\"logo-wrapper col-sm-6 hidden-xs\">\n",
      "<a class=\"logo navbar-btn pull-left\" href=\"/\" title=\"Home\">\n",
      "<img alt=\"Home\" class=\"img-responsive\" src=\"https://nostarch.com/sites/all/themes/nostarch/logo.png\"/>\n",
      "</a>\n",
      "</div>\n",
      "<div class=\"logo-wrapper col-sm-6 hidden-xs\">\n",
      "<div class=\"region region-navigation\">\n",
      "<div class=\"region region-navigation\">\n",
      "<section class=\"block block-search clearfix\" id=\"block-search-form\">\n",
      "<form accept-charset=\"UTF-8\" action=\"/\" class=\"form-search content-search\" id=\"search-block-form\" method=\"post\"><div><div>\n",
      "<h2 class=\"element-invisible\">Search form</h2>\n",
      "<div class=\"input-group\"><input class=\"form-control form-text\" id=\"edit-search-block-form--2\" maxlength=\"128\" name=\"search_block_form\" placeholder=\"Search\" size=\"15\" title=\"Enter the terms you wish to search for.\" type=\"text\" value=\"\"/><span class=\"input-group-btn\"><button class=\"btn btn-primary\" type=\"submit\"><span aria-hidden=\"true\" class=\"icon glyphicon glyphicon-search\"></span>\n",
      "</button></span></div><div class=\"form-actions form-wrapper form-group\" id=\"edit-actions--20\"><button class=\"element-invisible btn btn-default form-submit\" id=\"edit-submit--5\" name=\"op\" type=\"submit\" value=\"GO!\">GO!</button>\n",
      "</div><input name=\"form_build_id\" type=\"hidden\" value=\"form-acamHWaVrmzIRG5lATBfFHzNfSyeiRiO98NUga747zQ\"/>\n",
      "<input name=\"form_id\" type=\"hidden\" value=\"search_block_form\"/>\n",
      "</div>\n",
      "</div></form>\n",
      "</section>\n",
      "</div>\n",
      "</div>\n",
      "</div>\n",
      "</div>\n",
      "</div>\n",
      "</div>\n",
      "<div class=\"container\">\n",
      "<div class=\"row\">\n",
      "<div class=\"navbar-collapse collapse\">\n",
      "<nav role=\"navigation\">\n",
      "<ul class=\"menu nav navbar-nav\"><ul class=\"menu nav navbar-nav\"><li class=\"first leaf\"><a href=\"/catalog.htm\" title=\"Explore our catalog\">Catalog</a></li>\n",
      "<li class=\"leaf\"><a href=\"/blog\" title=\"The No Starch Press blog\">Blog</a></li>\n",
      "<li class=\"leaf\"><a href=\"/media.htm\" title=\"Media contact\">Media</a></li>\n",
      "<li class=\"leaf\"><a href=\"/writeforus\" title=\"Submit a book proposal\">Write for Us</a></li>\n",
      "<li class=\"leaf\"><a href=\"/about\" title=\"About No Starch Press\">About Us</a></li>\n",
      "<li class=\"last leaf\"><a href=\"/contactus\" title=\"Contact Us\">Contact Us</a></li>\n",
      "</ul></ul> </nav>\n",
      "</div>\n",
      "</div>\n",
      "</div>\n",
      "</header>\n",
      "<div class=\"main-container container\">\n",
      "<header id=\"page-header\" role=\"banner\">\n",
      "</header>\n",
      "<div class=\"row\">\n",
      "<aside class=\"col-sm-3\" role=\"complementary\">\n",
      "<div class=\"region region-sidebar-first well\">\n",
      "<section class=\"block block-views clearfix\" id=\"block-views-topics-block\">\n",
      "<button class=\"btn btn-primary btn-block visible-xs vert-offset-top-2\" data-target=\"#topics\" data-toggle=\"collapse\"><span class=\"glyphicon glyphicon-menu-down pull-left\"></span>\n",
      "<span class=\"btn-text\">Topics</span><span class=\"glyphicon glyphicon-menu-down pull-right\"></span></button>\n",
      "<h2 class=\"block-title hidden-xs\">Topics</h2>\n",
      "<div class=\"view-content collapse dont-collapse animateCollapse\" id=\"topics\">\n",
      "<div class=\"view view-topics view-id-topics view-display-id-block view-dom-id-f6f1798982ced49530e4e52c905e197b\">\n",
      "<div class=\"view-content\">\n",
      "<div class=\"item-list\"> <ul> <li class=\"views-row views-row-1 views-row-odd views-row-first\">\n",
      "<div class=\"views-field views-field-name\"> <span class=\"field-content\"><a href=\"/catalog/art-photography-design\">Art &amp; Design</a></span> </div></li>\n",
      "<li class=\"views-row views-row-2 views-row-even\">\n",
      "<div class=\"views-field views-field-name\"> <span class=\"field-content\"><a href=\"/catalog/general-computing\">General Computing</a></span> </div></li>\n",
      "<li class=\"views-row views-row-3 views-row-odd\">\n",
      "<div class=\"views-field views-field-name\"> <span class=\"field-content\"><a href=\"/catalog/security\">Hacking &amp; Computer Security</a></span> </div></li>\n",
      "<li class=\"views-row views-row-4 views-row-even\">\n",
      "<div class=\"views-field views-field-name\"> <span class=\"field-content\"><a href=\"/catalog/hardware-and-diy\">Hardware / DIY</a></span> </div></li>\n",
      "<li class=\"views-row views-row-5 views-row-odd\">\n",
      "<div class=\"views-field views-field-name\"> <span class=\"field-content\"><a href=\"/catalog/kids\">Kids</a></span> </div></li>\n",
      "<li class=\"views-row views-row-6 views-row-even\">\n",
      "<div class=\"views-field views-field-name\"> <span class=\"field-content\"><a href=\"/catalog/lego\">LEGO®</a></span> </div></li>\n",
      "<li class=\"views-row views-row-7 views-row-odd\">\n",
      "<div class=\"views-field views-field-name\"> <span class=\"field-content\"><a href=\"/catalog/linux-bsd-unix\">Linux &amp; BSD</a></span> </div></li>\n",
      "<li class=\"views-row views-row-8 views-row-even\">\n",
      "<div class=\"views-field views-field-name\"> <span class=\"field-content\"><a href=\"/catalog/manga\">Manga</a></span> </div></li>\n",
      "<li class=\"views-row views-row-9 views-row-odd\">\n",
      "<div class=\"views-field views-field-name\"> <span class=\"field-content\"><a href=\"/catalog/programming\">Programming</a></span> </div></li>\n",
      "<li class=\"views-row views-row-10 views-row-even\">\n",
      "<div class=\"views-field views-field-name\"> <span class=\"field-content\"><a href=\"/catalog/python\">Python</a></span> </div></li>\n",
      "<li class=\"views-row views-row-11 views-row-odd\">\n",
      "<div class=\"views-field views-field-name\"> <span class=\"field-content\"><a href=\"/catalog/science-math\">Science &amp; Math</a></span> </div></li>\n",
      "<li class=\"views-row views-row-12 views-row-even\">\n",
      "<div class=\"views-field views-field-name\"> <span class=\"field-content\"><a href=\"/catalog/scratch\">Scratch</a></span> </div></li>\n",
      "<li class=\"views-row views-row-13 views-row-odd\">\n",
      "<div class=\"views-field views-field-name\"> <span class=\"field-content\"><a href=\"/catalog/system-administration\">System Administration</a></span> </div></li>\n",
      "<li class=\"views-row views-row-14 views-row-even views-row-last\">\n",
      "<div class=\"views-field views-field-name\"> <span class=\"field-content\"><a href=\"/catalog/early-access\">Early Access</a></span> </div></li>\n",
      "</ul></div> </div>\n",
      "<div class=\"view-footer\">\n",
      "<style>\n",
      "<!--/*--><![CDATA[/* ><!--*/\n",
      "\n",
      ".view-topics .item-list a {font-weight: bold;}\n",
      ".view-topics  ul {padding-left: 20px;}\n",
      "\n",
      "/*--><!]]>*/\n",
      "</style> </div>\n",
      "</div> </div>\n",
      "</section><section class=\"block block-block clearfix\" id=\"block-block-12\">\n",
      "<div class=\"rounded_border_block\"><a href=\"/about_ebooks.htm\" style=\"color: red1;\">Free ebook edition with every print book purchased from nostarch.com!</a></div>\n",
      "</section>\n",
      "<section class=\"block block-uc-cart clearfix\" id=\"block-uc-cart-cart\">\n",
      "<h2 class=\"block-title\"><a href=\"/cart\"><span class=\"cart-block-icon-empty\" title=\"View your shopping cart.\"></span></a><span class=\"cart-block-title-bar\" title=\"Show/hide shopping cart contents.\">Shopping cart<span class=\"cart-block-arrow arrow-down\"></span></span></h2>\n",
      "<p class=\"cart-block-items collapsed uc-cart-empty\">There are no products in your shopping cart.</p><table class=\"cart-block-summary\"><tbody><tr><td class=\"cart-block-summary-items\"><span class=\"num-items\">0</span> Items</td><td class=\"cart-block-summary-total\"><label>Total:</label> <span class=\"uc-price\">$0.00</span></td></tr></tbody></table>\n",
      "</section>\n",
      "<section class=\"block block-nostarch-customclearfix\" id=\"block-nostarch-custom-login-block\">\n",
      "<h2 class=\"block-title\">User login</h2>\n",
      "<ul>\n",
      "<li><a href=\"/user\">Log in</a></li>\n",
      "<li><a href=\"/user/register\">Create account</a></li>\n",
      "</ul>\n",
      "</section>\n",
      "<section class=\"block block-nostarch-customclearfix\" id=\"block-nostarch-custom-bestsellers\">\n",
      "<h2 class=\"block-title\">This Month's Bestsellers</h2>\n",
      "<div align=\"center\">\n",
      "<div class=\"view view-favorites view-id-favorites view-display-id-default auto-clear view-dom-id-90dd952ce918fcb2dfabb01987f356a1\">\n",
      "<div class=\"view-content\">\n",
      "<div class=\"views-row views-row-1 views-row-odd views-row-first col-xs-6 col-sm-6 col-md-12\">\n",
      "<div class=\"views-field views-field-field-image-cache\"> <div class=\"field-content\"><a href=\"/tlcl2\"><img alt=\"The Linux Command Line, 2nd Edition\" class=\"img-responsive\" height=\"119\" src=\"https://nostarch.com/sites/default/files/styles/product/public/lcl2_front_new.png?itok=9aGACdXX\" title=\"The Linux Command Line, 2nd Edition\" width=\"90\"/></a></div> </div> </div>\n",
      "<div class=\"views-row views-row-2 views-row-even col-xs-6 col-sm-6 col-md-12\">\n",
      "<div class=\"views-field views-field-field-image-cache\"> <div class=\"field-content\"><a href=\"/pythoncrashcourse\"><img alt=\"Python Crash Course\" class=\"img-responsive\" height=\"119\" src=\"https://nostarch.com/sites/default/files/styles/product/public/pcc_cover-front.png?itok=DXJIe_89\" title=\"Python Crash Course\" width=\"90\"/></a></div> </div> </div>\n",
      "<div class=\"views-row views-row-3 views-row-odd col-xs-6 col-sm-6 col-md-12\">\n",
      "<div class=\"views-field views-field-field-image-cache\"> <div class=\"field-content\"><a href=\"/twinegames\"><img alt=\"Make Your Own Twine Games!\" class=\"img-responsive\" height=\"119\" src=\"https://nostarch.com/sites/default/files/styles/product/public/MYOTwineGames_front_final.png?itok=93R0ucU1\" title=\"Make Your Own Twine Games!\" width=\"90\"/></a></div> </div> </div>\n",
      "<div class=\"views-row views-row-4 views-row-even col-xs-6 col-sm-6 col-md-12\">\n",
      "<div class=\"views-field views-field-field-image-cache\"> <div class=\"field-content\"><a href=\"/automatestuff\"><img alt=\"Automate The Boring Stuff with Python\" class=\"img-responsive\" height=\"119\" src=\"https://nostarch.com/sites/default/files/styles/product/public/AutomatetheBoringStuff_cover.png?itok=0wrkXViC\" title=\"Automate The Boring Stuff with Python\" width=\"90\"/></a></div> </div> </div>\n",
      "<div class=\"views-row views-row-5 views-row-odd views-row-last col-xs-6 col-sm-6 col-md-12\">\n",
      "<div class=\"views-field views-field-field-image-cache\"> <div class=\"field-content\"><a href=\"/ejs3\"><img alt=\"Eloquent JavaScript, 3rd Edition\" class=\"img-responsive\" height=\"119\" src=\"https://nostarch.com/sites/default/files/styles/product/public/ejs3e_cover-front.png?itok=Z-UMUAfL\" title=\"Eloquent JavaScript, 3rd Edition\" width=\"90\"/></a></div> </div> </div>\n",
      "</div>\n",
      "</div> </div>\n",
      "</section>\n",
      "</div>\n",
      "</aside>\n",
      "<section class=\"col-sm-6\" style=\"\">\n",
      "<a id=\"main-content\"></a>\n",
      "<h1 class=\"page-header\">No Starch Press</h1>\n",
      "<div class=\"region region-content\">\n",
      "<section class=\"block block-system clearfix\" id=\"block-system-main\">\n",
      "<div class=\"ds-1col node node-page view-mode-full clearfix\">\n",
      "<div class=\"col-md-6 col-xs-12 product-teaser product-teaser-new auto-clear\">\n",
      "<h2 class=\"title\"><b>New!</b></h2>\n",
      "<section class=\"block block-views clearfix\" id=\"block-views-frontpage-new-block-frontpage\">\n",
      "<div class=\"view view-frontpage-new view-id-frontpage_new view-display-id-block_frontpage view-dom-id-da31b412d746274b692b9a8954ed310d\">\n",
      "<div class=\"view-content\">\n",
      "<div class=\"views-row views-row-1 views-row-odd views-row-first\">\n",
      "<article class=\"node node-product node-promoted node-teaser clearfix\" id=\"node-469\">\n",
      "<header>\n",
      "<h2><a href=\"/twinegames\">Make Your Own Twine Games!</a></h2>\n",
      "</header>\n",
      "<div class=\"field field-name-field-image-cache field-type-image field-label-hidden\"><div class=\"field-items\"><div class=\"field-item even\"><a href=\"/twinegames\"><img alt=\"Make Your Own Twine Games!\" class=\"img-responsive\" height=\"225\" src=\"https://nostarch.com/sites/default/files/styles/uc_product/public/MYOTwineGames_front_final.png?itok=Xk4aY7D2\" title=\"Make Your Own Twine Games!\" width=\"170\"/></a></div></div></div><div class=\"field field-name-body field-type-text-with-summary field-label-hidden\"><div class=\"field-items\"><div class=\"field-item even\"><p><a href=\"/twinegames\">Make Your Own Twine Games!</a> is a playful, kid-friendly introduction to game development using Twine, a free online scripting tool for creative storytelling.</p>\n",
      "</div></div></div>\n",
      "<footer>\n",
      "</footer>\n",
      "</article>\n",
      "</div>\n",
      "<div class=\"views-row views-row-2 views-row-even\">\n",
      "<article class=\"node node-product node-promoted node-teaser clearfix\" id=\"node-459\">\n",
      "<header>\n",
      "<h2><a href=\"/pixelart\">Make Your Own Pixel Art</a></h2>\n",
      "</header>\n",
      "<div class=\"field field-name-field-image-cache field-type-image field-label-hidden\"><div class=\"field-items\"><div class=\"field-item even\"><a href=\"/pixelart\"><img alt=\"\" class=\"img-responsive\" height=\"158\" src=\"https://nostarch.com/sites/default/files/styles/uc_product/public/MakeYourOwnPixelArt_front.png?itok=T2j7P1bs\" width=\"225\"/></a></div></div></div><div class=\"field field-name-body field-type-text-with-summary field-label-hidden\"><div class=\"field-items\"><div class=\"field-item even\"><p><a href=\"/pixelart\">Make Your Own Pixel Art</a> is an illustrated introduction to creating pixel art.</p>\n",
      "</div></div></div>\n",
      "<footer>\n",
      "</footer>\n",
      "</article>\n",
      "</div>\n",
      "<div class=\"views-row views-row-3 views-row-odd\">\n",
      "<article class=\"node node-product node-promoted node-teaser clearfix\" id=\"node-495\">\n",
      "<header>\n",
      "<h2><a href=\"/tlcl2\">The Linux Command Line, 2nd Edition</a></h2>\n",
      "</header>\n",
      "<div class=\"field field-name-field-image-cache field-type-image field-label-hidden\"><div class=\"field-items\"><div class=\"field-item even\"><a href=\"/tlcl2\"><img alt=\"The Linux Command Line, 2nd Edition\" class=\"img-responsive\" height=\"225\" src=\"https://nostarch.com/sites/default/files/styles/uc_product/public/lcl2_front_new.png?itok=Si6Zks_i\" title=\"The Linux Command Line, 2nd Edition\" width=\"170\"/></a></div></div></div><div class=\"field field-name-body field-type-text-with-summary field-label-hidden\"><div class=\"field-items\"><div class=\"field-item even\"><p>This newly revised edition of <a href=\"/tlcl2\">The Linux Command Line</a> contains various modernizations, including bash version 4.x and several useful new features. </p>\n",
      "</div></div></div>\n",
      "<footer>\n",
      "</footer>\n",
      "</article>\n",
      "</div>\n",
      "<div class=\"views-row views-row-4 views-row-even\">\n",
      "<article class=\"node node-product node-promoted node-teaser clearfix\" id=\"node-484\">\n",
      "<header>\n",
      "<h2><a href=\"/raspirobots\">Learn Robotics with Raspberry Pi</a></h2>\n",
      "</header>\n",
      "<div class=\"field field-name-field-image-cache field-type-image field-label-hidden\"><div class=\"field-items\"><div class=\"field-item even\"><a href=\"/raspirobots\"><img alt=\"Learn Robotics with Raspberry Pi\" class=\"img-responsive\" height=\"225\" src=\"https://nostarch.com/sites/default/files/styles/uc_product/public/LearnRoboticsRaspPi_front-cover_0.png?itok=7mg2gZDK\" title=\"Learn Robotics with Raspberry Pi\" width=\"170\"/></a></div></div></div><div class=\"field field-name-body field-type-text-with-summary field-label-hidden\"><div class=\"field-items\"><div class=\"field-item even\"><p>In <a href=\"/raspirobots\">Learn Robotics with Raspberry Pi</a> shows how to build robots with the Raspberry Pi microcomputer and a few easy-to-get components -- no prior experience necessary!</p>\n",
      "</div></div></div>\n",
      "<footer>\n",
      "</footer>\n",
      "</article>\n",
      "</div>\n",
      "<div class=\"views-row views-row-5 views-row-odd\">\n",
      "<article class=\"node node-product node-promoted node-teaser clearfix\" id=\"node-461\">\n",
      "<header>\n",
      "<h2><a href=\"/pythonflashcards\">Python Flash Cards</a></h2>\n",
      "</header>\n",
      "<div class=\"field field-name-field-image-cache field-type-image field-label-hidden\"><div class=\"field-items\"><div class=\"field-item even\"><a href=\"/pythonflashcards\"><img alt=\"Python Flash Cards\" class=\"img-responsive\" height=\"225\" src=\"https://nostarch.com/sites/default/files/styles/uc_product/public/PythonFlashCards_boxfront.png?itok=61tSZH-g\" title=\"Python Flash Cards\" width=\"168\"/></a></div></div></div><div class=\"field field-name-body field-type-text-with-summary field-label-hidden\"><div class=\"field-items\"><div class=\"field-item even\"><p><a href=\"/pythonflashcards\">Python Flash Cards</a> help new Python coders drill and reinforce the concepts, syntax, and terminology they'll need to become successful professional programmers.</p>\n",
      "</div></div></div>\n",
      "<footer>\n",
      "</footer>\n",
      "</article>\n",
      "</div>\n",
      "<div class=\"views-row views-row-6 views-row-even\">\n",
      "<article class=\"node node-product node-promoted node-teaser clearfix\" id=\"node-436\">\n",
      "<header>\n",
      "<h2><a href=\"/mathadventures\">Math Adventures with Python</a></h2>\n",
      "</header>\n",
      "<div class=\"field field-name-field-image-cache field-type-image field-label-hidden\"><div class=\"field-items\"><div class=\"field-item even\"><a href=\"/mathadventures\"><img alt=\"Math Adventures with Python\" class=\"img-responsive\" height=\"225\" src=\"https://nostarch.com/sites/default/files/styles/uc_product/public/mathadv_cover-front_new.png?itok=s4zdEhiv\" title=\"Math Adventures with Python\" width=\"169\"/></a></div></div></div><div class=\"field field-name-body field-type-text-with-summary field-label-hidden\"><div class=\"field-items\"><div class=\"field-item even\"><p><a href=\"/mathadventures\">Math Adventures with Python</a> teaches you how to use Python to transform learning math topics like algebra, geometry, and calculus!</p>\n",
      "</div></div></div>\n",
      "<footer>\n",
      "</footer>\n",
      "</article>\n",
      "</div>\n",
      "<div class=\"views-row views-row-7 views-row-odd\">\n",
      "<article class=\"node node-product node-promoted node-teaser clearfix\" id=\"node-444\">\n",
      "<header>\n",
      "<h2><a href=\"/seriouspython\">Serious Python</a></h2>\n",
      "</header>\n",
      "<div class=\"field field-name-field-image-cache field-type-image field-label-hidden\"><div class=\"field-items\"><div class=\"field-item even\"><a href=\"/seriouspython\"><img alt=\"Serious Python\" class=\"img-responsive\" height=\"225\" src=\"https://nostarch.com/sites/default/files/styles/uc_product/public/hackerspython_cover-front_v5.png?itok=eoHeAP6s\" title=\"Serious Python\" width=\"170\"/></a></div></div></div><div class=\"field field-name-body field-type-text-with-summary field-label-hidden\"><div class=\"field-items\"><div class=\"field-item even\"><p><a href=\"/seriouspython\">Serious Python</a> is a collection of practical, real-world advice for tackling common Python developer-level problems.</p>\n",
      "</div></div></div>\n",
      "<footer>\n",
      "</footer>\n",
      "</article>\n",
      "</div>\n",
      "<div class=\"views-row views-row-8 views-row-even\">\n",
      "<article class=\"node node-product node-promoted node-teaser clearfix\" id=\"node-483\">\n",
      "<header>\n",
      "<h2><a href=\"/binaryanalysis\">Practical Binary Analysis</a></h2>\n",
      "</header>\n",
      "<div class=\"field field-name-field-image-cache field-type-image field-label-hidden\"><div class=\"field-items\"><div class=\"field-item even\"><a href=\"/binaryanalysis\"><img alt=\"Practical Binary Analysis\" class=\"img-responsive\" height=\"225\" src=\"https://nostarch.com/sites/default/files/styles/uc_product/public/binary_cover-front.png?itok=auX2nX9Q\" title=\"Practical Binary Analysis\" width=\"170\"/></a></div></div></div><div class=\"field field-name-body field-type-text-with-summary field-label-hidden\"><div class=\"field-items\"><div class=\"field-item even\"><p><a href=\"/binary\">Practical Binary Analysis</a> covers advanced binary analysis topics like binary instrumentation, dynamic taint analysis, and symbolic execution.</p>\n",
      "</div></div></div>\n",
      "<footer>\n",
      "</footer>\n",
      "</article>\n",
      "</div>\n",
      "<div class=\"views-row views-row-9 views-row-odd views-row-last\">\n",
      "<article class=\"node node-product node-promoted node-teaser clearfix\" id=\"node-463\">\n",
      "<header>\n",
      "<h2><a href=\"/photography\">Understanding Photography</a></h2>\n",
      "</header>\n",
      "<div class=\"field field-name-field-image-cache field-type-image field-label-hidden\"><div class=\"field-items\"><div class=\"field-item even\"><a href=\"/photography\"><img alt=\"Understanding Photography\" class=\"img-responsive\" height=\"225\" src=\"https://nostarch.com/sites/default/files/styles/uc_product/public/UnderstandingPhotography_front_new.png?itok=tQfW8Plf\" title=\"Understanding Photography\" width=\"180\"/></a></div></div></div><div class=\"field field-name-body field-type-text-with-summary field-label-hidden\"><div class=\"field-items\"><div class=\"field-item even\"><p><a href=\"/photography\">Understanding Photography</a> covers digital image capture, exposure, composition, histograms, depth of field, advanced lighting, lens filters, shutter speed, and more.</p>\n",
      "</div></div></div>\n",
      "<footer>\n",
      "</footer>\n",
      "</article>\n",
      "</div>\n",
      "</div>\n",
      "<div class=\"view-footer\">\n",
      "<div class=\"feed-icon\">\n",
      "<a class=\"feed-icon\" href=\"/feeds/newbooks.xml\" title=\"Subscribe to No Starch Press - New Books\"><img alt=\"Subscribe to No Starch Press - New Books\" class=\"img-responsive\" height=\"16\" src=\"/misc/feed.png\" width=\"16\"/></a> </div> </div>\n",
      "</div>\n",
      "</section>\n",
      "</div>\n",
      "<div class=\"col-md-6 col-xs-12 product-teaser product-teaser-soon auto-clear\">\n",
      "<a href=\"/upcoming.htm\"><h2 class=\"title\"><b>Coming Soon</b></h2></a>\n",
      "<section class=\"block block-views clearfix\" id=\"block-views-frontpage-comingsoon-block-frontpage\">\n",
      "<div class=\"view view-frontpage-comingsoon view-id-frontpage_comingsoon view-display-id-block_frontpage view-dom-id-d49a6695b1ae2fbb7bf81eb324a106b9\">\n",
      "<div class=\"view-content\">\n",
      "<div class=\"views-row views-row-1 views-row-odd views-row-first\">\n",
      "<article class=\"node node-product node-promoted node-teaser clearfix\" id=\"node-498\">\n",
      "<header>\n",
      "<h2><a href=\"/pythoncrashcourse2e\">Python Crash Course, 2nd Edition</a></h2>\n",
      "</header>\n",
      "<div class=\"field field-name-field-image-cache field-type-image field-label-hidden\"><div class=\"field-items\"><div class=\"field-item even\"><a href=\"/pythoncrashcourse2e\"><img alt=\"Python Crash Course, 2nd Edition\" class=\"img-responsive\" height=\"225\" src=\"https://nostarch.com/sites/default/files/styles/uc_product/public/pcc2e_cover-front_final.png?itok=CRtz0EF2\" title=\"Python Crash Course, 2nd Edition\" width=\"170\"/></a></div></div></div><div class=\"field field-name-body field-type-text-with-summary field-label-hidden\"><div class=\"field-items\"><div class=\"field-item even\"><p><a href=\"/pythoncrashcourse2e\">Python Crash Course, 2nd Edition</a> teaches beginners the basics of programming in Python, with a focus on real projects. <b><i>Now Available in Early Access!</i></b></p>\n",
      "</div></div></div>\n",
      "<footer>\n",
      "</footer>\n",
      "</article>\n",
      "</div>\n",
      "<div class=\"views-row views-row-2 views-row-even\">\n",
      "<article class=\"node node-product node-promoted node-teaser clearfix\" id=\"node-352\">\n",
      "<header>\n",
      "<h2><a href=\"/rootkits\">Rootkits and Bootkits</a></h2>\n",
      "</header>\n",
      "<div class=\"field field-name-field-image-cache field-type-image field-label-hidden\"><div class=\"field-items\"><div class=\"field-item even\"><a href=\"/rootkits\"><img alt=\"Rootkits and Bootkits\" class=\"img-responsive\" height=\"225\" src=\"https://nostarch.com/sites/default/files/styles/uc_product/public/rootkits_front_FINAL_0.png?itok=eVbDwXDj\" title=\"Rootkits and Bootkits\" width=\"170\"/></a></div></div></div><div class=\"field field-name-body field-type-text-with-summary field-label-hidden\"><div class=\"field-items\"><div class=\"field-item even\"><p><a href=\"/rootkits\">Rootkits and Bootkits</a> shows you how to analyze, identify, and defend against rootkits and bootkits. <b><i>Now Available in Early Access!</i></b></p>\n",
      "</div></div></div>\n",
      "<footer>\n",
      "</footer>\n",
      "</article>\n",
      "</div>\n",
      "<div class=\"views-row views-row-3 views-row-odd\">\n",
      "<article class=\"node node-product node-promoted node-teaser clearfix\" id=\"node-494\">\n",
      "<header>\n",
      "<h2><a href=\"/scratchcards3\">The Official Scratch Coding Cards (Scratch 3.0)</a></h2>\n",
      "</header>\n",
      "<div class=\"field field-name-field-image-cache field-type-image field-label-hidden\"><div class=\"field-items\"><div class=\"field-item even\"><a href=\"/scratchcards3\"><img alt=\"Box Front Cover\" class=\"img-responsive\" height=\"225\" src=\"https://nostarch.com/sites/default/files/styles/uc_product/public/ScratchCards2e_front.png?itok=OTD-0vTp\" title=\"Box Front Cover\" width=\"164\"/></a></div></div></div><div class=\"field field-name-body field-type-text-with-summary field-label-hidden\"><div class=\"field-items\"><div class=\"field-item even\"><p><a href=\"/scratchcards2e\">The Official Scratch Coding Cards (Scratch 3.0)</a> is a deck of 76 activity cards that teaches kids to code with Scratch, a popular visual programming language. <b><i>Now Available in Early Access!</i></b></p>\n",
      "</div></div></div>\n",
      "<footer>\n",
      "</footer>\n",
      "</article>\n",
      "</div>\n",
      "<div class=\"views-row views-row-4 views-row-even\">\n",
      "<article class=\"node node-product node-promoted node-teaser clearfix\" id=\"node-439\">\n",
      "<header>\n",
      "<h2><a href=\"/webhacking\">Real-World Bug Hunting</a></h2>\n",
      "</header>\n",
      "<div class=\"field field-name-field-image-cache field-type-image field-label-hidden\"><div class=\"field-items\"><div class=\"field-item even\"><a href=\"/webhacking\"><img alt=\"Real-World Bug Hunting\" class=\"img-responsive\" height=\"225\" src=\"https://nostarch.com/sites/default/files/styles/uc_product/public/bughunting_cover-front.png?itok=ZDMwh03a\" title=\"Real-World Bug Hunting\" width=\"170\"/></a></div></div></div><div class=\"field field-name-body field-type-text-with-summary field-label-hidden\"><div class=\"field-items\"><div class=\"field-item even\"><p><a href=\"/webhacking\">Real-World Bug Hunting</a> uses real-world bug reports to teach programmers how to discover and protect vulnerabilities in web applications. <b><i>Now available in Early Access!</i></b></p>\n",
      "</div></div></div>\n",
      "<footer>\n",
      "</footer>\n",
      "</article>\n",
      "</div>\n",
      "<div class=\"views-row views-row-5 views-row-odd\">\n",
      "<article class=\"node node-product node-promoted node-teaser clearfix\" id=\"node-485\">\n",
      "<header>\n",
      "<h2><a href=\"/cad\">A Beginner's Guide to 3D Modeling</a></h2>\n",
      "</header>\n",
      "<div class=\"field field-name-field-image-cache field-type-image field-label-hidden\"><div class=\"field-items\"><div class=\"field-item even\"><a href=\"/cad\"><img alt=\"A Beginner's Guide to 3D Modeling\" class=\"img-responsive\" height=\"225\" src=\"https://nostarch.com/sites/default/files/styles/uc_product/public/Beginner3DModeling_front.png?itok=PDmit_0-\" title=\"A Beginner's Guide to 3D Modeling\" width=\"170\"/></a></div></div></div><div class=\"field field-name-body field-type-text-with-summary field-label-hidden\"><div class=\"field-items\"><div class=\"field-item even\"><p><a href=\"/3Dmodelingformakers\">A Beginner's Guide to 3D Modeling</a> introduces makers to the essentials of 3D CAD modeling. <b><i>Now Available in Early Access!</i></b></p>\n",
      "</div></div></div>\n",
      "<footer>\n",
      "</footer>\n",
      "</article>\n",
      "</div>\n",
      "<div class=\"views-row views-row-6 views-row-even\">\n",
      "<article class=\"node node-product node-promoted node-teaser clearfix\" id=\"node-468\">\n",
      "<header>\n",
      "<h2><a href=\"/scratchgames\">Make Your Own Scratch Games!</a></h2>\n",
      "</header>\n",
      "<div class=\"field field-name-field-image-cache field-type-image field-label-hidden\"><div class=\"field-items\"><div class=\"field-item even\"><a href=\"/scratchgames\"><img alt=\"Make Your Own Scratch Games!\" class=\"img-responsive\" height=\"225\" src=\"https://nostarch.com/sites/default/files/styles/uc_product/public/MYOPScratchGames_front_rev.png?itok=jkb3ql3U\" title=\"Make Your Own Scratch Games!\" width=\"171\"/></a></div></div></div><div class=\"field field-name-body field-type-text-with-summary field-label-hidden\"><div class=\"field-items\"><div class=\"field-item even\"><p><a href=\"/scratchgames\">Make Your Own Scratch Games!</a> is a playful, kid-friendly introduction game development using the Scratch programming language.</p>\n",
      "</div></div></div>\n",
      "<footer>\n",
      "</footer>\n",
      "</article>\n",
      "</div>\n",
      "<div class=\"views-row views-row-7 views-row-odd\">\n",
      "<article class=\"node node-product node-promoted node-teaser clearfix\" id=\"node-493\">\n",
      "<header>\n",
      "<h2><a href=\"/learnbayes\">Bayesian Statistics the Fun Way</a></h2>\n",
      "</header>\n",
      "<div class=\"field field-name-field-image-cache field-type-image field-label-hidden\"><div class=\"field-items\"><div class=\"field-item even\"><a href=\"/learnbayes\"><img alt=\"Bayesian Statistics the Fun Way\" class=\"img-responsive\" height=\"225\" src=\"https://nostarch.com/sites/default/files/styles/uc_product/public/BayesianStats_front_V1_placeholder.png?itok=9DSDG3H0\" title=\"Bayesian Statistics the Fun Way\" width=\"168\"/></a></div></div></div><div class=\"field field-name-body field-type-text-with-summary field-label-hidden\"><div class=\"field-items\"><div class=\"field-item even\"><p>With <a href=\"/learnbayes\">Bayesian Statistics the Fun Way</a> you'll finally understand probability with Bayes, and have fun doing it.</p>\n",
      "</div></div></div>\n",
      "<footer>\n",
      "</footer>\n",
      "</article>\n",
      "</div>\n",
      "<div class=\"views-row views-row-8 views-row-even\">\n",
      "<article class=\"node node-product node-promoted node-teaser clearfix\" id=\"node-455\">\n",
      "<header>\n",
      "<h2><a href=\"/cppcrashcourse\">C++ Crash Course</a></h2>\n",
      "</header>\n",
      "<div class=\"field field-name-field-image-cache field-type-image field-label-hidden\"><div class=\"field-items\"><div class=\"field-item even\"><a href=\"/cppcrashcourse\"><img alt=\"C++ Crash Course\" class=\"img-responsive\" height=\"225\" src=\"https://nostarch.com/sites/default/files/styles/uc_product/public/CppCC_cover-front_0.png?itok=gZb1UODK\" title=\"C++ Crash Course\" width=\"170\"/></a></div></div></div><div class=\"field field-name-body field-type-text-with-summary field-label-hidden\"><div class=\"field-items\"><div class=\"field-item even\"><p><a href=\"/ccrashcourse\">C++ Crash Course</a> is a fast-paced, thorough introduction to modern C++ written for experienced programmers. <b><i>Now available in Early Access!</i></b></p>\n",
      "</div></div></div>\n",
      "<footer>\n",
      "</footer>\n",
      "</article>\n",
      "</div>\n",
      "<div class=\"views-row views-row-9 views-row-odd\">\n",
      "<article class=\"node node-product node-promoted node-teaser clearfix\" id=\"node-496\">\n",
      "<header>\n",
      "<h2><a href=\"/linuxtoolbox\">Your Linux Toolbox</a></h2>\n",
      "</header>\n",
      "<div class=\"field field-name-field-image-cache field-type-image field-label-hidden\"><div class=\"field-items\"><div class=\"field-item even\"><a href=\"/linuxtoolbox\"><img alt=\"Your Linux Toolbox\" class=\"img-responsive\" height=\"225\" src=\"https://nostarch.com/sites/default/files/styles/uc_product/public/ToolBox%20Layout-front.png?itok=AtQwOFx_\" title=\"Your Linux Toolbox\" width=\"169\"/></a></div></div></div><div class=\"field field-name-body field-type-text-with-summary field-label-hidden\"><div class=\"field-items\"><div class=\"field-item even\"><p><a href=\"/linuxtoolbox\">Your Linux Toolbox</a> is a collection of all the awesome Linux zines you love, now as a fancy box set!</p>\n",
      "</div></div></div>\n",
      "<footer>\n",
      "</footer>\n",
      "</article>\n",
      "</div>\n",
      "<div class=\"views-row views-row-10 views-row-even views-row-last\">\n",
      "<article class=\"node node-product node-promoted node-teaser clearfix\" id=\"node-513\">\n",
      "<header>\n",
      "<h2><a href=\"/legocastle\">The LEGO Castle Book</a></h2>\n",
      "</header>\n",
      "<div class=\"field field-name-field-image-cache field-type-image field-label-hidden\"><div class=\"field-items\"><div class=\"field-item even\"><a href=\"/legocastle\"><img alt=\"The LEGO Castle Book\" class=\"img-responsive\" height=\"225\" src=\"https://nostarch.com/sites/default/files/styles/uc_product/public/TheLEGOCastleBook_front_cover.png?itok=ZCxC6YHH\" title=\"The LEGO Castle Book\" width=\"225\"/></a></div></div></div><div class=\"field field-name-body field-type-text-with-summary field-label-hidden\"><div class=\"field-items\"><div class=\"field-item even\"><p><a href=\"/legomicrocities\">The LEGO Castle Book</a> is your step-by-step guide to building building beautiful LEGO Castles in microscale.</p>\n",
      "</div></div></div>\n",
      "<footer>\n",
      "</footer>\n",
      "</article>\n",
      "</div>\n",
      "</div>\n",
      "<div class=\"view-footer\">\n",
      "<div class=\"feed-icon\">\n",
      "<a class=\"feed-icon\" href=\"/feeds/comingsoon.xml\" title=\"Subscribe to No Starch Press - Coming Soon\"><img alt=\"Subscribe to No Starch Press - Coming Soon\" class=\"img-responsive\" height=\"16\" src=\"/misc/feed.png\" width=\"16\"/></a> </div> </div>\n",
      "</div>\n",
      "</section>\n",
      "</div></div>\n",
      "</section>\n",
      "</div>\n",
      "</section>\n",
      "<aside class=\"col-sm-3\" role=\"complementary\">\n",
      "<div class=\"region region-sidebar-second\">\n",
      "<section class=\"block block-system block-menu clearfix\" id=\"block-system-navigation\">\n",
      "<h2 class=\"block-title\">Navigation</h2>\n",
      "<ul class=\"menu nav\"><li class=\"first last leaf\"><a href=\"/user\" title=\"\">My account</a></li>\n",
      "</ul>\n",
      "</section>\n",
      "<section class=\"block block-block clearfix\" id=\"block-block-52\">\n",
      "<p><a href=\"/mailchimp/subscribe\">Want sweet deals? <br/>Sign up for our newsletter.</a></p>\n",
      "</section>\n",
      "<section class=\"block block-block clearfix\" id=\"block-block-1\">\n",
      "<h2 class=\"block-title\">News</h2>\n",
      "<p>Check out our new <a href=\"/no-starch-gotta-have-it-death-metal-t-shirt\" style=\"text-decoration:underline;\">death metal tees</a>!</p>\n",
      "<p>Now available in <a href=\"/aboutearlyaccess\" style=\"text-decoration:underline;\">Early Access</a>!</p>\n",
      "<p>❧ <a href=\"/cppcrashcourse\" style=\"text-decoration:underline;\">C++ Crash Course</a><br/>\n",
      "❧ <a href=\"/rootkits\" style=\"text-decoration:underline;\">Rootkits and Bootkits</a><br/>\n",
      "❧ <a href=\"/bughunting\" style=\"text-decoration:underline;\">Real-World Bug Hunting</a><br/>\n",
      "❧ <a href=\"/pythoncrashcourse2e\" style=\"text-decoration:underline;\">Python Crash Course, 2nd Edition</a><br/>\n",
      "❧ <a href=\"/scratchcards3\" style=\"text-decoration:underline;\">The Official Scratch Coding Cards (Scratch 3.0)</a><br/>\n",
      "❧ <a href=\"/3Dmodelingformakers\" style=\"text-decoration:underline;\">A Beginner's Guide to 3D Modeling</a></p>\n",
      "<p>Read <b><a href=\"/crackingcodes\" style=\"text-decoration:underline;\" target=\"_blank\">Cracking Codes with Python</a></b> author Al Sweigart's <b><a href=\"https://www.reddit.com/r/learnpython/comments/7sigre/my_new_book_cracking_codes_with_python_is_now/\" style=\"text-decoration:underline;\" target=\"_blank\">Reddit AMA</a></b>.</p>\n",
      "<p><b><a href=\"/nsm\" style=\"text-decoration:underline;\" target=\"_blank\">The Practice of Network Security Monitoring</a></b> was inducted into Palo Alto Networks <b><a href=\"https://cybercanon.paloaltonetworks.com/\" style=\"text-decoration:underline;\" target=\"_blank\">Cybersecurity Canon</a></b>.</p>\n",
      "<p>Read Andrew “bunnie” Huang’s <b><a href=\"https://www.reddit.com/r/netsec/comments/5xli3d/hi_im_bunnie_author_of_the_the_hardware_hacker/\" style=\"text-decoration:underline;\" target=\"_blank\">Reddit AMA</a></b>.</p>\n",
      "<p><b><a href=\"http://www.vox.com/videos/2017/2/6/14445516/minecraft-art-business-maps\" style=\"text-decoration:underline;\" target=\"_blank\">Vox</a></b> interviewed the author of <b><a href=\"/beautifulminecraft\" style=\"text-decoration:underline;\" target=\"_blank\">Beautiful Minecraft</a></b> and discovered how the game became an artistic medium.</p>\n",
      "<p>“A look inside a mind without peer.” <b>Edward Snowden</b> on <b><a href=\"/hardwarehacker\" style=\"text-decoration:underline;\" target=\"_blank\">The Hardware Hacker</a></b>.</p>\n",
      "<p><b><a href=\"/facebookforseniors\" style=\"text-decoration:underline;\" target=\"_blank\">Facebook for Seniors</a></b> is one of the <b><a href=\"http://www.wsj.com/articles/the-best-geeky-books-to-kick-off-the-new-year-1483637008\" style=\"text-decoration:underline;\" target=\"_blank\">Wall Street Journal’s</a></b> recommended geeky books to kick off the new year!</p>\n",
      "<p>Natalie Rusk, creator of the <a href=\"/scratchcards\" style=\"text-decoration:underline;\" target=\"_blank\"><b>Scratch Coding Cards</b></a>, shares tips for supporting creative coding on the <b><a href=\"https://www.iste.org/explore/articleDetail?articleid=864&amp;category=In-the-classroom&amp;article=5+ways+to+support+creative+coding\" style=\"text-decoration:underline;\" target=\"_blank\">ISTE blog</a></b></p>\n",
      "<p>Merry Brickmas! <a href=\"/legochristmas\" style=\"text-decoration:underline;\" target=\"_blank\"><b>The LEGO Christmas Ornaments Book</b></a> is featured in <b><a href=\"/download/LEGOChristmasOrnaments_FamilyCircle.pdf\" style=\"text-decoration:underline;\" target=\"_blank\">Family Circle Magazine</a></b> and <b><a href=\"http://www.chicagotribune.com/lifestyles/holiday/giftguide/sc-gift-guide-childrens-books-2016--gallery-20161108-photogallery.html\" style=\"text-decoration:underline;\" target=\"_blank\">The Chicago Tribune</a></b>!</p>\n",
      "<p>Dave Taylor, author of <b><a href=\"/wcss2\" style=\"text-decoration:underline;\" target=\"_blank\">Wicked Cool Shell Scripts</a></b>, shares how to make an interactive calculator on <b><a href=\"https://opensource.com/article/16/12/calcshell-interactive-linux-command-line-calculator\" style=\"text-decoration:underline;\" target=\"_blank\">Opensource.com</a></b></p>\n",
      "<p>Bring your LEGO collection to life: <a href=\"/legoanimation\" style=\"text-decoration:underline;\" target=\"_blank\"><b>The LEGO Animation Book</b></a> is included in <a href=\"https://www.theverge.com/a/holiday-gift-ideas-2016#lego-animation-book\" style=\"text-decoration:underline;\" target=\"_blank\"><b>The Verge’s Holiday Gift Guide</b></a>.</p>\n",
      "<p>Need a few geeky summer reads? <b><a href=\"http://www.wsj.com/articles/three-books-every-geek-should-read-this-summer-1466715350\" style=\"text-decoration:underline;\" target=\"_blank\">The Wall Street Journal</a></b> recommends <b><a href=\"/electronicsforkids\" style=\"text-decoration:underline;\" target=\"_blank\">Electronics for Kids</a></b> and <b><a href=\"/searchtale\" style=\"text-decoration:underline;\" target=\"_blank\">The CS Detective</a></b>!</p>\n",
      "<p>The author of <b><a href=\"/tinylegowonders\" style=\"text-decoration:underline;\" target=\"_blank\">Tiny LEGO Wonders</a></b>, Mattia Zamboni, was interviewed by Vice’s <b><a href=\"https://thecreatorsproject.vice.com/blog/diy-lego-engineering-book\" style=\"text-decoration:underline;\" target=\"_blank\">The Creators Project</a></b>.</p>\n",
      "<p><b><a href=\"http://www.slj.com/2016/05/collection-development/read-watch-alikes/coding-lets-begin/#_\" style=\"text-decoration:underline;\" target=\"_blank\">School Library Journal</a></b> recommends <b><a href=\"/scratchjr\" style=\"text-decoration:underline;\" target=\"_blank\">The Official ScratchJr Book</a></b>, <b><a href=\"/teachkids\" style=\"text-decoration:underline;\" target=\"_blank\">Teach Your Kids to Code</a></b>, and <b><a href=\"/doingmathwithpython\" style=\"text-decoration:underline;\" target=\"_blank\">Doing Math with Python</a></b> for educators who want to teach coding.</p>\n",
      "<p><b><a href=\"/carhacking\" style=\"text-decoration:underline;\" target=\"_blank\">The Car Hacker’s Handbook</a></b> is the <b><a href=\"http://www.wsj.com/articles/3-must-read-books-for-geeks-1458057671?tesla=y\" style=\"text-decoration:underline;\" target=\"_blank\">Wall Street Journal’s</a></b> latest must-read book for geeks!</p>\n",
      "<p>No Starch Press founder, Bill Pollock, did a Reddit AMA with authors <a href=\"/metasploit\" style=\"text-decoration:underline;\" target=\"_blank\">David Kennedy</a>, <a href=\"/hacking2.htm target=new\">Jon Erickson</a>, <a href=\"/malware\" style=\"text-decoration:underline;\" target=\"_blank\">Michael Sikorski</a>, and <a href=\"/idapro2.htm\" style=\"text-decoration:underline;\" target=\"_blank\">Chris Eagle</a>. Read the AMA <b><a href=\"https://www.reddit.com/r/netsec/comments/3waa8x/im_bill_pollock_no_starch_press_founder_im_here/\" style=\"text-decoration:underline;\" target=\"_blank\">here</a></b>.</p>\n",
      "<p>Why publish books about Scratch? The Scratch Foundation and Bill Pollock answer in this <a href=\"https://medium.com/scratchfoundation-blog/why-publish-books-about-scratch-7ea0b72cd9af\" style=\"text-decoration:underline;\" target=\"_blank\"><b>Medium post</b></a>.</p>\n",
      "<p>Be the Corbusier of LEGO: <a href=\"/legoarchitect\" style=\"text-decoration:underline;\" target=\"_blank\"><b>The LEGO Architect</b></a> is included in <a href=\"http://graphics.wsj.com/off-duty-50/a-guide-to-fall-2015/1278/be-the-corbusier-of-lego\" style=\"text-decoration:underline;\" target=\"_blank\"><b>The Wall Street Journal’s guide to Fall’s Best</b></a>.</p>\n",
      "<p><a href=\"/smartgirlsguide\" style=\"text-decoration:underline;\" target=\"_blank\"><b>The Smart Girl’s Guide to Privacy</b></a> hits the cover of <a href=\"https://twitter.com/violetblue/status/652989002677534720/photo/1\" style=\"text-decoration:underline;\" target=\"_blank\"><b>BUST Magazine</b></a>!</p>\n",
      "<p>No Starch Press fans found <b><a href=\"https://twitter.com/billpollock/status/616127920042479616\" style=\"text-decoration:underline;\" target=\"_blank\">our sticker</a></b> and <b><a href=\"https://twitter.com/aCaltum/status/596735294818385920\" style=\"text-decoration:underline;\" target=\"_blank\">Hacking: The Art of Exploitation</a></b> in recent episodes of HBO’s Silicon Valley!</p>\n",
      "</section>\n",
      "<section class=\"block block-block clearfix\" id=\"block-block-7\">\n",
      "<h2 class=\"block-title\">Follow Us</h2>\n",
      "<p><a href=\"feeds/newbooks.xml\"><img align=\"left\" alt=\"RSS Feed\" border=\"0\" src=\"/misc/feed.png\" style=\"padding-bottom:8px; padding-right:8px;\"/>New Releases</a></p>\n",
      "<p><a href=\"feeds/comingsoon.xml\"><img align=\"left\" alt=\"RSS Feed\" border=\"0\" src=\"/misc/feed.png\" style=\"padding-bottom:8px; padding-right:8px;\"/>Coming Soon</a></p>\n",
      "<p><a href=\"/mailchimp/subscribe\"><img align=\"left\" alt=\"Newsletter\" border=\"0\" src=\"/sites/default/files/email-16.png\" style=\"padding-bottom:8px;padding-right:8px;\"/>Subscribe to our Newsletter</a></p>\n",
      "<p><a href=\"https://www.twitter.com/nostarch\"><img align=\"left\" alt=\"Twitter\" border=\"0\" src=\"/sites/default/files/twitter-16x16.png\" style=\"padding-bottom:8px;padding-right:8px;\"/>Twitter</a></p>\n",
      "<p><a href=\"https://www.facebook.com/NoStarchPress/\"><img align=\"left\" alt=\"Facebook\" border=\"0\" src=\"/sites/default/files/facebook_small.png\" style=\"padding-bottom:8px;padding-right:8px;\"/>Facebook</a></p>\n",
      "</section>\n",
      "</div>\n",
      "</aside>\n",
      "</div>\n",
      "</div>\n",
      "<footer class=\"footer container\">\n",
      "<div class=\"region region-footer\">\n",
      "<section class=\"block block-block clearfix\" id=\"block-block-16\">\n",
      "<div id=\"footer-links\">\n",
      "<br/>\n",
      "<a class=\"footer-links\" href=\"/about.htm\">About Us</a>\n",
      " <span class=\"footer-divider\">|</span> \n",
      "<a class=\"footer-links\" href=\"/Jobs.htm\">Jobs!</a>\n",
      " <span class=\"footer-divider\">|</span> \n",
      "<a class=\"footer-links\" href=\"/distribution.htm\">Sales and Distribution</a>\n",
      " <span class=\"footer-divider\">|</span> \n",
      "<a class=\"footer-links\" href=\"/rights\">Rights</a>\n",
      " <span class=\"footer-divider\">|</span> \n",
      "<a class=\"footer-links\" href=\"/media.htm\">Media</a>\n",
      " <span class=\"footer-divider\">|</span> \n",
      "<a class=\"footer-links\" href=\"/academic.htm\">Academic Requests</a>\n",
      " <span class=\"footer-divider\">|</span> \n",
      "<a class=\"footer-links\" href=\"/conferences.htm\">Conferences</a>\n",
      " <span class=\"footer-divider\">|</span> \n",
      "<a class=\"footer-links\" href=\"/orderfaq.htm\">Order FAQ</a>\n",
      " <span class=\"footer-divider\">|</span> \n",
      "<a class=\"footer-links\" href=\"/contactus\">Contact Us</a>\n",
      " <span class=\"footer-divider\">|</span> \n",
      "<a class=\"footer-links\" href=\"/writeforus\">Write for Us</a>\n",
      " <span class=\"footer-divider\">|</span> \n",
      "<a class=\"footer-links\" href=\"/privacypolicy.htm\">Privacy</a>\n",
      "</div>\n",
      "</section>\n",
      "<section class=\"block block-nostarch-custom clearfix\" id=\"block-nostarch-custom-custom-footer-copyright\">\n",
      "<div class=\"block-block\">\n",
      "<p>Copyright 2019. No Starch Press, Inc</p>\n",
      "</div>\n",
      "</section>\n",
      "</div>\n",
      "</footer>\n",
      "<script src=\"https://nostarch.com/sites/default/files/js/js_MLVgtzZ1ORq9krYqkeOsRay6ou_T-0QZytivuM9tTT8.js\"></script>\n",
      "<script src=\"https://nostarch.com/sites/default/files/js/js_MRdvkC2u4oGsp5wVxBG1pGV5NrCPW3mssHxIn6G9tGE.js\"></script>\n",
      "</body>\n",
      "</html>\n",
      "\n"
     ]
    }
   ],
   "source": [
    "# Creating a BeautifulSoup Object from HTML\n",
    "\n",
    "#Reading from a URL\n",
    "res = requests.get('http://nostarch.com')\n",
    "try:\n",
    "    res.raise_for_status()\n",
    "    noStarchSoup = bs4.BeautifulSoup(res.text, \"lxml\")\n",
    "    print(type(noStarchSoup))\n",
    "    print(noStarchSoup)\n",
    "except Exception as exc:\n",
    "    print('There was a problem: %s' % (exc))"
   ]
  },
  {
   "cell_type": "code",
   "execution_count": 3,
   "metadata": {
    "collapsed": false,
    "deletable": true,
    "editable": true
   },
   "outputs": [
    {
     "name": "stdout",
     "output_type": "stream",
     "text": [
      "<class 'bs4.BeautifulSoup'>\n",
      "<!-- This is the example.html file. --><html><head><title>The Website Title</title></head>\n",
      "<body>\n",
      "<p>Download my <strong>Python</strong> book from <a href=\"http://inventwithpython.com\">my website</a>.</p>\n",
      "<p class=\"slogan\">Learn Python the easy way!</p>\n",
      "<p>By <span id=\"author\">Al Sweigart</span></p>\n",
      "</body></html>\n"
     ]
    }
   ],
   "source": [
    "#Reading from an HTML file \n",
    "exampleFile = open('automate_online-materials/example.html')\n",
    "exampleSoup = bs4.BeautifulSoup(exampleFile, \"lxml\")\n",
    "print(type(exampleSoup))\n",
    "print(exampleSoup)"
   ]
  },
  {
   "cell_type": "markdown",
   "metadata": {
    "deletable": true,
    "editable": true
   },
   "source": [
    "## Finding an Element with the select() Method"
   ]
  },
  {
   "cell_type": "code",
   "execution_count": 22,
   "metadata": {
    "collapsed": false,
    "deletable": true,
    "editable": true
   },
   "outputs": [
    {
     "name": "stdout",
     "output_type": "stream",
     "text": [
      "[<title>The Website Title</title>]\n",
      "[<span id=\"author\">Al Sweigart</span>]\n",
      "[<strong>Python</strong>]\n"
     ]
    }
   ],
   "source": [
    "print(exampleSoup.select('title'))\n",
    "print(exampleSoup.select('#author'))\n",
    "print(exampleSoup.select('p > strong'))"
   ]
  },
  {
   "cell_type": "markdown",
   "metadata": {
    "deletable": true,
    "editable": true
   },
   "source": [
    "* `soup.select('div')` - All elements named `<div>`\n",
    "* `soup.select('#author')` - The element with an `id` attribute of `author`\n",
    "* `soup.select('.notice')` - All elements that use a `CSS` class attribute named `notice`\n",
    "* `soup.select('div span')` - All elements named `<span>` that are within an element named `<div>`\n",
    "* `soup.select('div > span')` - All elements named `<span>` that are directly within an element named `<div>`, with no other element in between\n",
    "* `soup.select('input[name]')` - All elements named `<input>` that have a name attribute with any                                                                   value\n",
    "* `soup.select('input[type=\"button\"]')` - All elements named `<input>` that have an attribute named type with                                                               value `button`\n",
    "\n"
   ]
  },
  {
   "cell_type": "code",
   "execution_count": 26,
   "metadata": {
    "collapsed": false,
    "deletable": true,
    "editable": true
   },
   "outputs": [],
   "source": [
    "import bs4\n",
    "exampleFile = open('automate_online-materials/example.html')\n",
    "exampleSoup = bs4.BeautifulSoup(exampleFile.read(), \"lxml\")"
   ]
  },
  {
   "cell_type": "code",
   "execution_count": 27,
   "metadata": {
    "collapsed": false,
    "deletable": true,
    "editable": true
   },
   "outputs": [
    {
     "name": "stdout",
     "output_type": "stream",
     "text": [
      "<class 'list'>\n",
      "1\n",
      "<class 'bs4.element.Tag'>\n",
      "Al Sweigart\n",
      "<span id=\"author\">Al Sweigart</span>\n",
      "{'id': 'author'}\n"
     ]
    }
   ],
   "source": [
    "elems = exampleSoup.select('#author')\n",
    "print(type(elems))\n",
    "print(len(elems))\n",
    "print(type(elems[0]))\n",
    "print(elems[0].getText())\n",
    "print(str(elems[0]))\n",
    "print(elems[0].attrs)"
   ]
  },
  {
   "cell_type": "markdown",
   "metadata": {
    "deletable": true,
    "editable": true
   },
   "source": [
    "* You can also pull all the `<p>` elements from the BeautifulSoup object. Enter this into the interactive shell:"
   ]
  },
  {
   "cell_type": "code",
   "execution_count": 28,
   "metadata": {
    "collapsed": false,
    "deletable": true,
    "editable": true
   },
   "outputs": [
    {
     "name": "stdout",
     "output_type": "stream",
     "text": [
      "<p>Download my <strong>Python</strong> book from <a href=\"http://inventwithpython.com\">my website</a>.</p>\n",
      "Download my Python book from my website.\n",
      "<p class=\"slogan\">Learn Python the easy way!</p>\n",
      "Learn Python the easy way!\n",
      "<p>By <span id=\"author\">Al Sweigart</span></p>\n",
      "By Al Sweigart\n"
     ]
    }
   ],
   "source": [
    "pElems = exampleSoup.select('p')\n",
    "print(str(pElems[0]))\n",
    "print(pElems[0].getText())\n",
    "print(str(pElems[1]))\n",
    "print(pElems[1].getText())\n",
    "print(str(pElems[2]))\n",
    "print(pElems[2].getText())"
   ]
  },
  {
   "cell_type": "markdown",
   "metadata": {
    "deletable": true,
    "editable": true
   },
   "source": [
    "## Getting Data from an Element’s Attributes"
   ]
  },
  {
   "cell_type": "code",
   "execution_count": 4,
   "metadata": {
    "collapsed": false,
    "deletable": true,
    "editable": true
   },
   "outputs": [
    {
     "name": "stdout",
     "output_type": "stream",
     "text": [
      "<span id=\"author\">Al Sweigart</span>\n",
      "author\n",
      "True\n",
      "{'id': 'author'}\n"
     ]
    }
   ],
   "source": [
    "import bs4\n",
    "soup = bs4.BeautifulSoup(open('automate_online-materials/example.html'), \"lxml\")\n",
    "spanElem = soup.select('span')[0]\n",
    "print(str(spanElem))\n",
    "print(spanElem.get('id'))\n",
    "print(spanElem.get('some_nonexistent_addr') == None)\n",
    "print(spanElem.attrs)"
   ]
  },
  {
   "cell_type": "markdown",
   "metadata": {
    "deletable": true,
    "editable": true
   },
   "source": [
    "## Project: “I’m Feeling Lucky” Google Search"
   ]
  },
  {
   "cell_type": "code",
   "execution_count": 8,
   "metadata": {
    "collapsed": false,
    "deletable": true,
    "editable": true
   },
   "outputs": [
    {
     "name": "stdout",
     "output_type": "stream",
     "text": [
      "Input searh keyword: test\n"
     ]
    }
   ],
   "source": [
    "import webbrowser\n",
    "import sys\n",
    "import requests\n",
    "import bs4\n",
    "\n",
    "user_input = input('Input searh keyword: ')\n",
    "\n",
    "if len(user_input) > 1:\n",
    "    #print(user_input)\n",
    "    res = requests.get('https://www.google.com/search?q=' + user_input)\n",
    "    try:\n",
    "        res.raise_for_status()\n",
    "        noStarchSoup = bs4.BeautifulSoup(res.text, \"lxml\")\n",
    "        links = noStarchSoup.select('.r a')\n",
    "        for link in links:\n",
    "            currLink = 'https://www.google.com' + link.get('href')\n",
    "            #print(currLink)\n",
    "            webbrowser.open(currLink)\n",
    "    \n",
    "    \n",
    "    except Exception as exc:\n",
    "        print('There was a problem: %s' % (exc))"
   ]
  },
  {
   "cell_type": "markdown",
   "metadata": {
    "deletable": true,
    "editable": true
   },
   "source": [
    "## Project: Downloading All XKCD Comics"
   ]
  },
  {
   "cell_type": "code",
   "execution_count": 28,
   "metadata": {
    "collapsed": false,
    "deletable": true,
    "editable": true
   },
   "outputs": [
    {
     "name": "stdout",
     "output_type": "stream",
     "text": [
      "Number of images you need: 5\n",
      "Downloading page: https://xkcd.com/\n",
      "Downloading image: https://imgs.xkcd.com/comics/heists_and_escapes.png\n",
      "Downloading page: https://xkcd.com/2144/\n",
      "Downloading image: https://imgs.xkcd.com/comics/adjusting_a_chair.png\n",
      "Downloading page: https://xkcd.com/2143/\n",
      "Downloading image: https://imgs.xkcd.com/comics/disk_usage.png\n",
      "Downloading page: https://xkcd.com/2142/\n",
      "Downloading image: https://imgs.xkcd.com/comics/dangerous_fields.png\n",
      "Downloading page: https://xkcd.com/2141/\n",
      "Downloading image: https://imgs.xkcd.com/comics/ui_vs_ux.png\n"
     ]
    }
   ],
   "source": [
    "import webbrowser\n",
    "import sys\n",
    "import requests\n",
    "import bs4\n",
    "import os\n",
    "import urllib\n",
    "\n",
    "user_input = input('Number of images you need: ')\n",
    "\n",
    "# store comics in ./xkcd\n",
    "os.makedirs('xkcd', exist_ok=True)\n",
    "\n",
    "# Download the page.\n",
    "res = requests.get('https://xkcd.com')\n",
    "\n",
    "for x in range(int(user_input)):\n",
    "    try:\n",
    "        if(x>0):\n",
    "            res = requests.get(new_next_link)\n",
    "        res.raise_for_status()\n",
    "        print(\"Downloading page: \" + res.url)\n",
    "        noStarchSoup = bs4.BeautifulSoup(res.text, \"lxml\")\n",
    "        \n",
    "        # Find the URL of the comic image.\n",
    "        link = noStarchSoup.select('#comic img')[0]\n",
    "        if(link == []):\n",
    "            print(\"Couldn't find an image\")\n",
    "        else:\n",
    "            new_link = 'https:' + link.get('src')\n",
    "            print(\"Downloading image: \" + new_link)\n",
    "            \n",
    "            # Get the Prev button's url.\n",
    "            next_link = noStarchSoup.select('a[rel=\"prev\"]')[0]\n",
    "            new_next_link = 'https://xkcd.com' + next_link.get('href')\n",
    "            \n",
    "            # Save the image to ./xkcd.\n",
    "            name = new_link.split(\"/\")[4]\n",
    "            urllib.request.urlretrieve(new_link, 'xkcd/'+ name)\n",
    "\n",
    "    except Exception as exc:\n",
    "        print('There was a problem: %s' % (exc))\n"
   ]
  },
  {
   "cell_type": "markdown",
   "metadata": {
    "collapsed": true,
    "deletable": true,
    "editable": true
   },
   "source": [
    "# Controlling the Browser with the selenium Module"
   ]
  },
  {
   "cell_type": "markdown",
   "metadata": {
    "collapsed": true,
    "deletable": true,
    "editable": true
   },
   "source": [
    "## Starting a Selenium-Controlled Browser"
   ]
  },
  {
   "cell_type": "code",
   "execution_count": 30,
   "metadata": {
    "collapsed": false,
    "deletable": true,
    "editable": true
   },
   "outputs": [
    {
     "name": "stdout",
     "output_type": "stream",
     "text": [
      "Collecting selenium\n",
      "  Downloading https://files.pythonhosted.org/packages/80/d6/4294f0b4bce4de0abf13e17190289f9d0613b0a44e5dd6a7f5ca98459853/selenium-3.141.0-py2.py3-none-any.whl (904kB)\n",
      "Requirement already satisfied: urllib3 in c:\\users\\suwadith\\appdata\\local\\enthought\\canopy\\edm\\envs\\user\\lib\\site-packages (from selenium) (1.22)\n",
      "Installing collected packages: selenium\n",
      "Successfully installed selenium-3.141.0\n"
     ]
    }
   ],
   "source": [
    "!pip install selenium"
   ]
  },
  {
   "cell_type": "code",
   "execution_count": 1,
   "metadata": {
    "collapsed": false,
    "deletable": true,
    "editable": true
   },
   "outputs": [
    {
     "name": "stdout",
     "output_type": "stream",
     "text": [
      "<class 'selenium.webdriver.firefox.webdriver.WebDriver'>\n"
     ]
    }
   ],
   "source": [
    "# Debug geckodriver error: https://stackoverflow.com/questions/40208051/selenium-using-python-geckodriver-executable-needs-to-be-in-path\n",
    "\n",
    "from selenium import webdriver\n",
    "\n",
    "browser = webdriver.Firefox()\n",
    "print(type(browser))\n",
    "browser.get('http://inventwithpython.com')"
   ]
  },
  {
   "cell_type": "markdown",
   "metadata": {
    "collapsed": true,
    "deletable": true,
    "editable": true
   },
   "source": [
    "## Finding Elements on the Page"
   ]
  },
  {
   "cell_type": "markdown",
   "metadata": {
    "collapsed": true,
    "deletable": true,
    "editable": true
   },
   "source": [
    "Method name | WebElement object/list returned\n",
    "--- | ---\n",
    "`browser.find_element_by_class_name(name)`<br>`browser.find_elements_by_class_name(name)` | Elements that use the CSS class `name`\n",
    "`browser.find_element_by_css_selector(selector)`<br>`browser.find_elements_by_css_selector(selector)` | Elements that match the CSS `selector`\n",
    "`browser.find_element_by_id(id)`<br>`browser.find_elements_by_id(id)` | Elements with a matching `id` attribute value\n",
    "`browser.find_element_by_link_text(text)`<br>`browser.find_elements_by_link_text(text)` | `<a>` elements that completely match the `text` provided\n",
    "`browser.find_element_by_partial_link_text(text)`<br>`browser.find_elements_by_partial_link_text(text)` | `<a>` elements that contain the `text` provided\n",
    "`browser.find_element_by_name(name)`<br>`browser.find_elements_by_name(name)` | Elements with a matching `name` attribute value\n",
    "`browser.find_element_by_tag_name(name)`<br>`browser.find_elements_by_tag_name(name)` | Elements with a matching tag `name` (case insensitive; an `<a>` element is matched by 'a' and 'A')\n",
    "\n",
    "Attribute or method | Description\n",
    "--- | ---\n",
    "`tag_name` | The tag name, such as 'a' for an `<a>` element\n",
    "`get_attribute(name)` | The value for the element’s `name` attribute\n",
    "`text` | The text within the element, such as 'hello' in `<span>hello</span>`\n",
    "`clear()` | For text field or text area elements, clears the text typed into it\n",
    "`is_displayed()` | Returns `True` if the element is visible; otherwise returns `False`\n",
    "`is_enabled()` | For input elements, returns `True` if the element is enabled; otherwise returns `False`\n",
    "`is_selected()` | For checkbox or radio button elements, returns `True` if the element is selected; otherwise returns `False`\n",
    "`location` | A dictionary with keys `'x'` and `'y'` for the position of the element in the page\n",
    "\n",
    "\n",
    "\n",
    "\n",
    "\n",
    "\n",
    "\n",
    "\n",
    "\n",
    "\n",
    "\n",
    "\n",
    "\n",
    "\n",
    "\n",
    "\n",
    "\n",
    "\n",
    "\n",
    "\n",
    "\n",
    "\n",
    "\n",
    "\n",
    "\n",
    "\n",
    "\n",
    "\n",
    "\n",
    "\n",
    "\n"
   ]
  },
  {
   "cell_type": "code",
   "execution_count": 3,
   "metadata": {
    "collapsed": false
   },
   "outputs": [
    {
     "name": "stdout",
     "output_type": "stream",
     "text": [
      "Found <img> element with that class name!\n"
     ]
    }
   ],
   "source": [
    "from selenium import webdriver\n",
    "\n",
    "browser = webdriver.Firefox()\n",
    "browser.get('http://inventwithpython.com')\n",
    "try:\n",
    "    elem = browser.find_element_by_class_name('cover-thumb')\n",
    "    print('Found <%s> element with that class name!' % (elem.tag_name))\n",
    "except:\n",
    "    print('Was not able to find an element with that name.')"
   ]
  },
  {
   "cell_type": "markdown",
   "metadata": {},
   "source": [
    "## Clicking the Page"
   ]
  },
  {
   "cell_type": "code",
   "execution_count": 7,
   "metadata": {
    "collapsed": false
   },
   "outputs": [
    {
     "name": "stdout",
     "output_type": "stream",
     "text": [
      "Found <a> element with that class name!\n",
      "<class 'selenium.webdriver.firefox.webelement.FirefoxWebElement'>\n"
     ]
    }
   ],
   "source": [
    "from selenium import webdriver\n",
    "\n",
    "browser = webdriver.Firefox()\n",
    "browser.get('http://inventwithpython.com')\n",
    "try:\n",
    "    linkElem = browser.find_element_by_link_text('Coding with Minecraft')\n",
    "    print('Found <%s> element with that class name!' % (linkElem.tag_name))\n",
    "    print(type(linkElem))\n",
    "    linkElem.click()\n",
    "except:\n",
    "    print('Was not able to find an element with that name.')"
   ]
  },
  {
   "cell_type": "markdown",
   "metadata": {},
   "source": [
    "## Filling Out and Submitting Forms"
   ]
  },
  {
   "cell_type": "code",
   "execution_count": 39,
   "metadata": {
    "collapsed": false
   },
   "outputs": [],
   "source": [
    "from selenium import webdriver\n",
    "from selenium.webdriver.support import expected_conditions as EC\n",
    "from selenium.webdriver.support.ui import WebDriverWait\n",
    "\n",
    "browser = webdriver.Firefox()\n",
    "wait = WebDriverWait(browser, 10)\n",
    "browser.get('https://kametsu.com/login')\n",
    "try:\n",
    "    usernameElem = browser.find_element_by_id('auth')\n",
    "    usernameElem.send_keys('username')\n",
    "    passwordElem = browser.find_element_by_id('password')\n",
    "    passwordElem.send_keys('password')\n",
    "    submitElem = browser.find_element_by_id('elSignIn_submit')\n",
    "    submitElem.click()\n",
    "except:\n",
    "    print('Was not able to find an element with that name.')\n",
    "finally:\n",
    "    browser.quit()\n",
    "    \n",
    "# Support: https://stackoverflow.com/questions/40002826/wait-for-page-redirect-selenium-webdriver-python"
   ]
  },
  {
   "cell_type": "markdown",
   "metadata": {},
   "source": [
    "## Sending Special Keys"
   ]
  },
  {
   "cell_type": "markdown",
   "metadata": {},
   "source": [
    "Attributes | Meanings\n",
    "--- | ---\n",
    "`Keys.DOWN, Keys.UP, Keys.LEFT, Keys.RIGHT` | The keyboard arrow keys\n",
    "`Keys.ENTER, Keys.RETURN` | The ENTER and RETURN keys\n",
    "`Keys.HOME, Keys.END, Keys.PAGE_DOWN, Keys.PAGE_UP` | The home, end, pagedown, and pageup keys\n",
    "`Keys.ESCAPE, Keys.BACK_SPACE, Keys.DELETE` | The ESC, BACKSPACE, and DELETE keys\n",
    "`Keys.F1, Keys.F2,..., Keys.F12` | The F1 to F12 keys at the top of the keyboard\n",
    "`Keys.TAB` | The TAB key"
   ]
  },
  {
   "cell_type": "code",
   "execution_count": 42,
   "metadata": {
    "collapsed": true
   },
   "outputs": [],
   "source": [
    "from selenium import webdriver\n",
    "from selenium.webdriver.common.keys import Keys\n",
    "\n",
    "browser = webdriver.Firefox()\n",
    "browser.get('http://nostarch.com')\n",
    "try:\n",
    "    htmlElem = browser.find_element_by_tag_name('html')\n",
    "    htmlElem.send_keys(Keys.END)     # scrolls to bottom\n",
    "    #htmlElem.send_keys(Keys.HOME)    # scrolls to top\n",
    "except:\n",
    "    print('Was not able to find an element with that name.')\n",
    "finally:\n",
    "    browser.quit()"
   ]
  },
  {
   "cell_type": "markdown",
   "metadata": {},
   "source": [
    "## Clicking Browser Buttons"
   ]
  },
  {
   "cell_type": "markdown",
   "metadata": {},
   "source": [
    "* `browser.back()` - Clicks the Back button.\n",
    "* `browser.forward()` - Clicks the Forward button.\n",
    "* `browser.refresh()` - Clicks the Refresh/Reload button.\n",
    "* `browser.quit()` - Clicks the Close Window button."
   ]
  },
  {
   "cell_type": "markdown",
   "metadata": {},
   "source": [
    "### More info: http://selenium-python.readthedocs.org/."
   ]
  },
  {
   "cell_type": "code",
   "execution_count": null,
   "metadata": {
    "collapsed": true
   },
   "outputs": [],
   "source": []
  }
 ],
 "metadata": {
  "kernelspec": {
   "display_name": "Python 3",
   "language": "python",
   "name": "python3"
  },
  "language_info": {
   "codemirror_mode": {
    "name": "ipython",
    "version": 3
   },
   "file_extension": ".py",
   "mimetype": "text/x-python",
   "name": "python",
   "nbconvert_exporter": "python",
   "pygments_lexer": "ipython3",
   "version": "3.5.2"
  }
 },
 "nbformat": 4,
 "nbformat_minor": 2
}
